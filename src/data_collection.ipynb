{
 "cells": [
  {
   "cell_type": "code",
   "execution_count": 1,
   "metadata": {},
   "outputs": [],
   "source": [
    "#data collection\n",
    "import numpy as np\n",
    "import pandas as pd\n",
    "from pattern_matching import *\n",
    "from ltl import *\n",
    "from similarity_measure import *"
   ]
  },
  {
   "cell_type": "code",
   "execution_count": 2,
   "metadata": {},
   "outputs": [],
   "source": [
    "#load trace data\n",
    "dat1 = pd.read_csv('./../data/graham.norton.s22.e08_data.csv')\n",
    "dat2 = pd.read_csv('./../data/graham.norton.s22.e12_data.csv')\n",
    "dat3 = pd.read_csv('./../data/blackpink_data.csv')\n",
    "dat4 = pd.read_csv('./../data/graham.norton.s22e01.csv')\n",
    "dat5 = pd.read_csv('./../data/graham.norton.s22e02.csv')\n",
    "dat6 = pd.read_csv('./../data/graham.norton.s22e07.csv')\n",
    "dat7 = pd.read_csv('./../data/graham.norton.s22e15.csv')\n",
    "dat8 = pd.read_csv('./../data/graham.norton.s22e19.csv')\n",
    "dat9 = pd.read_csv('./../data/graham.norton.s24e10.csv')\n",
    "dat10 = pd.read_csv('./../data/american_factory.csv')\n",
    "dat11 = pd.read_csv('./../data/taylor_swift_miss_americana.csv')\n",
    "dat12 = pd.read_csv('./../data/spider-man_into_the_spider-verse.csv')\n",
    "\n",
    "#filter(lambda a: a != 2, x)\n",
    "trace1 = list(filter(lambda x: x != \"x\", dat1.L))\n",
    "trace2 = list(filter(lambda x: x != \"x\", dat2.L))\n",
    "trace3 = list(filter(lambda x: x != \"x\", dat3.L))\n",
    "trace4 = list(filter(lambda x: x != \"x\", dat4.L))\n",
    "trace5 = list(filter(lambda x: x != \"x\", dat5.L))\n",
    "trace6 = list(filter(lambda x: x != \"x\", dat6.L))\n",
    "trace7 = list(filter(lambda x: x != \"x\", dat7.L))\n",
    "trace8 = list(filter(lambda x: x != \"x\", dat8.L))\n",
    "trace9 = list(filter(lambda x: x != \"x\", dat9.L))\n",
    "trace10 = list(filter(lambda x: x != \"x\", dat10.L))\n",
    "trace11 = list(filter(lambda x: x != \"x\", dat11.L))\n",
    "trace12 = list(filter(lambda x: x != \"x\", dat12.L))\n",
    "\n",
    "eventlog1 = [trace1, trace2, trace3, trace4, trace5, trace6, trace7, trace8, trace9, trace10, trace11, trace12]"
   ]
  },
  {
   "cell_type": "code",
   "execution_count": 3,
   "metadata": {},
   "outputs": [
    {
     "data": {
      "text/plain": [
       "{'open.question, open.question': 3,\n",
       " 'open.question, respond.agree': 3,\n",
       " 'respond.agree, open.question': 2,\n",
       " 'respond.agree, give.statement': 3,\n",
       " 'respond.agree, use.social.convention': 2,\n",
       " 'respond.agree, give.opinion': 4,\n",
       " 'respond.agree, closed.question': 2,\n",
       " 'recall, respond.agree': 2,\n",
       " 'recall, recall': 10,\n",
       " 'recall, give.statement': 2,\n",
       " 'recall, give.opinion': 2,\n",
       " 'recall, relax.atmosphere': 3,\n",
       " 'recall, closed.question': 2,\n",
       " 'misc, misc': 4,\n",
       " 'give.statement, give.statement': 7,\n",
       " 'give.statement, relax.atmosphere': 5,\n",
       " 'give.statement, closed.question': 5,\n",
       " 'use.social.convention, give.statement': 4,\n",
       " 'use.social.convention, use.social.convention': 6,\n",
       " 'use.social.convention, give.opinion': 2,\n",
       " 'use.social.convention, relax.atmosphere': 3,\n",
       " 'give.opinion, respond.agree': 2,\n",
       " 'give.opinion, recall': 2,\n",
       " 'give.opinion, give.statement': 3,\n",
       " 'give.opinion, use.social.convention': 4,\n",
       " 'give.opinion, give.opinion': 11,\n",
       " 'give.opinion, relax.atmosphere': 4,\n",
       " 'relax.atmosphere, open.question': 2,\n",
       " 'relax.atmosphere, respond.agree': 3,\n",
       " 'relax.atmosphere, give.statement': 2,\n",
       " 'relax.atmosphere, give.opinion': 4,\n",
       " 'relax.atmosphere, relax.atmosphere': 7,\n",
       " 'relax.atmosphere, closed.question': 5,\n",
       " 'closed.question, respond.agree': 6,\n",
       " 'closed.question, respond.deny': 2,\n",
       " 'closed.question, closed.question': 2,\n",
       " 'open.question, open.question, give.opinion': 2,\n",
       " 'recall, recall, recall': 7,\n",
       " 'misc, misc, misc': 3,\n",
       " 'give.statement, give.statement, give.statement': 6,\n",
       " 'give.statement, give.statement, give.opinion': 2,\n",
       " 'give.statement, give.statement, relax.atmosphere': 2,\n",
       " 'give.statement, give.statement, closed.question': 2,\n",
       " 'use.social.convention, use.social.convention, exclamation': 2,\n",
       " 'use.social.convention, use.social.convention, use.social.convention': 6,\n",
       " 'give.opinion, give.opinion, recall': 3,\n",
       " 'give.opinion, give.opinion, give.statement': 3,\n",
       " 'give.opinion, give.opinion, use.social.convention': 2,\n",
       " 'give.opinion, give.opinion, give.opinion': 7,\n",
       " 'give.opinion, give.opinion, relax.atmosphere': 2,\n",
       " 'relax.atmosphere, relax.atmosphere, give.statement': 2,\n",
       " 'relax.atmosphere, relax.atmosphere, use.social.convention': 2,\n",
       " 'relax.atmosphere, relax.atmosphere, give.opinion': 2,\n",
       " 'relax.atmosphere, relax.atmosphere, relax.atmosphere': 5,\n",
       " 'closed.question, respond.agree, give.statement': 2,\n",
       " 'recall, recall, recall, recall': 5,\n",
       " 'misc, misc, misc, misc': 3,\n",
       " 'use.social.convention, use.social.convention, use.social.convention, give.statement': 2,\n",
       " 'use.social.convention, use.social.convention, use.social.convention, use.social.convention': 5,\n",
       " 'give.opinion, give.opinion, give.opinion, give.opinion': 5,\n",
       " 'recall, recall, recall, recall, recall': 3,\n",
       " 'misc, misc, misc, misc, misc': 3,\n",
       " 'use.social.convention, use.social.convention, use.social.convention, use.social.convention, use.social.convention': 3,\n",
       " 'misc, misc, misc, misc, misc, misc': 2,\n",
       " 'use.social.convention, use.social.convention, use.social.convention, use.social.convention, use.social.convention, use.social.convention': 2,\n",
       " 'misc, misc, misc, misc, misc, misc, misc': 2,\n",
       " 'use.social.convention, use.social.convention, use.social.convention, use.social.convention, use.social.convention, use.social.convention, use.social.convention': 2,\n",
       " 'misc, misc, misc, misc, misc, misc, misc, misc': 2,\n",
       " 'misc, misc, misc, misc, misc, misc, misc, misc, misc': 2,\n",
       " 'misc, misc, misc, misc, misc, misc, misc, misc, misc, misc': 2,\n",
       " 'misc, misc, misc, misc, misc, misc, misc, misc, misc, misc, misc': 2}"
      ]
     },
     "execution_count": 3,
     "metadata": {},
     "output_type": "execute_result"
    }
   ],
   "source": [
    "mine_pattern(trace1, 2)"
   ]
  },
  {
   "cell_type": "code",
   "execution_count": 4,
   "metadata": {},
   "outputs": [
    {
     "data": {
      "text/plain": [
       "[('give.statement, give.statement, give.statement, give.opinion',\n",
       "  29.185661610679364),\n",
       " ('give.opinion, misc', 28.476608295358854),\n",
       " ('exclamation, give.statement', 26.254804992236714),\n",
       " ('closed.question, give.statement', 24.5001135248475),\n",
       " ('misc, misc, misc, misc, misc, misc, misc, misc, misc, misc, misc, misc',\n",
       "  24.469656581723036),\n",
       " ('misc, misc, misc, misc, misc, misc, misc, misc, misc, misc, misc, misc, misc',\n",
       "  24.469656581723036),\n",
       " ('recall, misc', 23.907674116578782),\n",
       " ('give.statement, exclamation', 23.907674116578782),\n",
       " ('give.statement, give.statement, closed.question', 22.74667515491638),\n",
       " ('misc, misc, misc, misc, misc, misc, misc, misc, misc, misc, misc, misc, misc, misc',\n",
       "  22.14847311861244),\n",
       " ('misc, misc, misc, misc, misc, misc, misc, misc, misc, misc, misc, misc, misc, misc, misc',\n",
       "  22.14847311861244),\n",
       " ('misc, misc, misc, misc, misc, misc, misc, misc, misc, misc, misc, misc, misc, misc, misc, misc',\n",
       "  22.14847311861244),\n",
       " ('misc, misc, misc, misc, misc, misc, misc, misc', 21.832383353614798),\n",
       " ('misc, misc, misc, misc, misc, misc, misc, misc, misc', 21.75167867888686),\n",
       " ('misc, misc, misc, misc, misc, misc, misc, misc, misc, misc',\n",
       "  21.75167867888686),\n",
       " ('misc, misc, misc, misc, misc, misc, misc, misc, misc, misc, misc',\n",
       "  21.75167867888686),\n",
       " ('recall, recall, misc', 21.41719617888822),\n",
       " ('exclamation, exclamation', 21.41719617888822),\n",
       " ('closed.question, closed.question, closed.question', 21.41719617888822),\n",
       " ('closed.question, closed.question', 20.22463057322567),\n",
       " ('misc, misc, misc, misc, misc, misc, misc', 19.939963357229512),\n",
       " ('give.opinion, open.question', 18.759271266376626),\n",
       " ('give.opinion, give.opinion, misc', 18.759271266376626),\n",
       " ('give.statement, give.statement, give.opinion, give.opinion',\n",
       "  18.759271266376626),\n",
       " ('misc, misc, misc, misc, misc, misc', 18.059441042200113),\n",
       " ('misc, misc', 17.859085843044078),\n",
       " ('quoted.speech, quoted.speech', 17.07691008327056),\n",
       " ('misc, give.statement', 17.07691008327056),\n",
       " ('misc, misc, misc, misc, misc', 16.477200990051173),\n",
       " ('misc, misc, misc, misc', 16.467697429741808),\n",
       " ('misc, misc, relax.atmosphere', 16.409253120147945),\n",
       " ('recall, give.opinion, give.opinion', 15.899991218358139),\n",
       " ('give.opinion, give.opinion, give.opinion, give.statement',\n",
       "  15.899991218358139),\n",
       " ('give.statement, give.statement, give.statement, give.statement, give.opinion',\n",
       "  15.899991218358139),\n",
       " ('closed.question, exclamation', 15.899991218358139),\n",
       " ('misc, misc, misc', 15.184764653707179),\n",
       " ('give.statement, closed.question', 14.46636000758086),\n",
       " ('relax.atmosphere, relax.atmosphere, closed.question', 14.27813078592548),\n",
       " ('misc, misc, give.opinion', 14.27813078592548),\n",
       " ('give.statement, misc', 13.661528066616446),\n",
       " ('give.statement, give.opinion', 13.059583407257833),\n",
       " ('open.question, respond.agree', 12.788039631123947),\n",
       " ('respond.agree, recall', 12.788039631123947),\n",
       " ('give.opinion, exclamation', 12.788039631123947),\n",
       " ('give.opinion, recall, recall', 12.788039631123947),\n",
       " ('recall, recall, recall, give.opinion', 12.788039631123947),\n",
       " ('give.opinion, give.opinion, give.opinion, misc', 12.788039631123947),\n",
       " ('give.opinion, give.opinion, give.opinion, use.social.convention',\n",
       "  12.788039631123947),\n",
       " ('recall, recall, recall, closed.question', 12.788039631123947),\n",
       " ('give.opinion, quoted.speech', 12.788039631123947)]"
      ]
     },
     "execution_count": 4,
     "metadata": {},
     "output_type": "execute_result"
    }
   ],
   "source": [
    "get_ranked_patterns(eventlog1, 50)"
   ]
  },
  {
   "cell_type": "code",
   "execution_count": 5,
   "metadata": {},
   "outputs": [
    {
     "name": "stdout",
     "output_type": "stream",
     "text": [
      "Check that question precedes answers, globally:  [True]\n",
      "Check that relax.atmosphere does not exceed 5 between Q and A:  [True, True, True, True, True, True, True, True, True, True, True, True, True, True, True, True, True, True, True, False, True, True, True, True, True, True, True, True, True, True, True, True, True, True, True, True, True, False, True, True, True, True, True, True, True, True, True, True, False, True, True, True, True, True, True, True, True, True, True, True, True, True, True, True, True, True, True, True, True, True, True, True, True, True, True, True, True, True, True, True, True, True, True, True, True, True, True, True, True, True, True, True, True]\n",
      "Check that relax.atmosphere exists between Q and A:  [False, True, True, True, True, True, True, True, True, True, True, True, True, True, True, True, True, True, True, True, True, True, True, True, True, True, True, True, True, True, True, True, True, True, True, True, True, True, True, True, True, True, True, True, True, True, True, True, True, True, True, True, True, True, True, True, True, True, True, True, False, True, True, True, True, True, True, True, True, True, True, True, True, True, True, True, True, True, True, True, True, True, True, True, True, False, True, True, True, True, False, True, True]\n",
      "Check that no questions between recalls:  [True, True, True, True, True, True, True, True, True, True, True, True, True, True, True, True, True, True, True, True, True, True, True, True, True, True, True, True, True, True, True, True, True, True, True, True, True, True, True, True, True, True, True, True, True, True, True, True, True, True, True, True, True, True, True, True, True, True, True, True, True, True, True, True, True, True, True, True, True, True, True, True, True, True, True, True, True, True, True, True, True, True, True, True, True, True, True, True, True, True, True, True, True, True, True, True, True, True, True, True, True, True, True, True, True, True, True, True, True, True, True, True, True, True, True, True, True, True, True, True, True, True, True, True, True, True, True, True, True, True, True, True, True, True, True, True, True, True, True, True, True, True, True, True, True, True, True, True, True, True, True, True, True, True, True, True, True, True, True, True, True, True, True, True, True, True, True, True, True, True, True, True, True, True, True, True, True, True, True, True, True, True, True, True, True, True, True, True]\n"
     ]
    }
   ],
   "source": [
    "#LTL checks\n",
    "\n",
    "#question precedes answers, globally\n",
    "scope1 = [(0, len(trace1))]\n",
    "patt1 = precedence(trace1, scope1, [\"closed.question\", \"open.question\"], [\"respond.agree, respond.deny\"])\n",
    "print(\"Check that question precedes answers, globally: \", patt1)\n",
    "\n",
    "#relax.atmosphere does not exceed 5 times, between questions and answers\n",
    "scope2 = between(trace1, [\"closed.question\", \"open.question\"], [\"respond.agree\", \"respond.deny\"])\n",
    "patt2 = cost(trace1, scope2, [\"relax.atmosphere\"], 5)\n",
    "print(\"Check that relax.atmosphere does not exceed 5 between Q and A: \", patt2)\n",
    "\n",
    "#existence of relax.atmosphere or absence of respond.deny or exclamation, between Q and A\n",
    "patt3 = existence(trace1, scope2, [\"relax.atmosphere\"])\n",
    "patt4 = absence(trace1, scope2, [\"respond.deny\", \"exclamation\"])\n",
    "print(\"Check that relax.atmosphere exists between Q and A: \", [x or y for x,y in zip(patt3, patt4)])\n",
    "\n",
    "#within a chain of recalls, we don't see questions\n",
    "scope3 = between(trace1, [\"recall\"], [\"recall\"])\n",
    "patt5 = absence(trace1, scope3, [\"closed.question\", \"open.question\"])\n",
    "print(\"Check that no questions between recalls: \", patt5)"
   ]
  },
  {
   "cell_type": "code",
   "execution_count": 18,
   "metadata": {},
   "outputs": [],
   "source": [
    "#con-det\n",
    "sub_convos = find_sub_conversations(trace1, list(set(trace1)), 0.3, 30)\n",
    "weights = calc_weights(trace1, sub_convos)\n",
    "aw = augment_weights(trace1, weights, get_ranked_patterns(eventlog1, 50))"
   ]
  },
  {
   "cell_type": "code",
   "execution_count": 19,
   "metadata": {
    "scrolled": true
   },
   "outputs": [
    {
     "data": {
      "text/plain": [
       "[<matplotlib.lines.Line2D at 0x7f642b5e8be0>]"
      ]
     },
     "execution_count": 19,
     "metadata": {},
     "output_type": "execute_result"
    },
    {
     "data": {
      "image/png": "[encoded data removed]",
      "text/plain": [
       "<Figure size 432x288 with 1 Axes>"
      ]
     },
     "metadata": {
      "needs_background": "light"
     },
     "output_type": "display_data"
    }
   ],
   "source": [
    "#can we create a visualization here of weight?\n",
    "import matplotlib.pyplot as plt\n",
    "\n",
    "y = aw\n",
    "x = list(range(len(aw)))\n",
    "plt.plot(x,y)"
   ]
  },
  {
   "cell_type": "code",
   "execution_count": null,
   "metadata": {},
   "outputs": [],
   "source": []
  }
 ],
 "metadata": {
  "kernelspec": {
   "display_name": "Python 3",
   "language": "python",
   "name": "python3"
  },
  "language_info": {
   "codemirror_mode": {
    "name": "ipython",
    "version": 3
   },
   "file_extension": ".py",
   "mimetype": "text/x-python",
   "name": "python",
   "nbconvert_exporter": "python",
   "pygments_lexer": "ipython3",
   "version": "3.6.9"
  }
 },
 "nbformat": 4,
 "nbformat_minor": 2
}
