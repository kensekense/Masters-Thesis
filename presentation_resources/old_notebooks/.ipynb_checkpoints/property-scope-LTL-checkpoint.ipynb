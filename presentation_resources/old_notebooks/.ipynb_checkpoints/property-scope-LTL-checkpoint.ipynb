{
 "cells": [
  {
   "cell_type": "code",
   "execution_count": 1,
   "metadata": {},
   "outputs": [],
   "source": [
    "import pandas as pd\n",
    "import numpy as np"
   ]
  },
  {
   "cell_type": "markdown",
   "metadata": {},
   "source": [
    "# Scope Functions"
   ]
  },
  {
   "cell_type": "code",
   "execution_count": 2,
   "metadata": {},
   "outputs": [],
   "source": [
    "def after (trace, x):\n",
    "    \n",
    "    assert type(trace) == list\n",
    "    assert type(x) == list\n",
    "    \n",
    "    #find first instance\n",
    "    for pos in range(len(trace)):\n",
    "        if trace[pos] in x:\n",
    "            return [(pos,len(trace)-1)]"
   ]
  },
  {
   "cell_type": "code",
   "execution_count": 3,
   "metadata": {},
   "outputs": [],
   "source": [
    "def before (trace, x):\n",
    "    \n",
    "    assert type(trace) == list\n",
    "    assert type(x) == list\n",
    "    \n",
    "    #find first instance\n",
    "    for pos in range(len(trace)):\n",
    "        if trace[pos] in x:\n",
    "            return [(0,pos)]"
   ]
  },
  {
   "cell_type": "code",
   "execution_count": 4,
   "metadata": {},
   "outputs": [],
   "source": [
    "#return the sub-sequences for scope x UNTIL y\n",
    "def until (trace, x, y):\n",
    "    \n",
    "    assert type(trace) == list\n",
    "    assert type(x) == list\n",
    "    assert type(y) == list\n",
    "    \n",
    "    #find all instances of until\n",
    "    s = -1\n",
    "    e = -1\n",
    "    sol = []\n",
    "    \n",
    "    for pos in range(len(trace)):\n",
    "        \n",
    "        if trace[pos] in x and s == -1:\n",
    "            s = pos\n",
    "        \n",
    "        if trace[pos] in y and s != -1:\n",
    "            e = pos\n",
    "            sol.append((s,e))\n",
    "            s = -1\n",
    "            e = -1\n",
    "    \n",
    "    #add if don't find anyways\n",
    "    if s != -1 and pos == len(trace)-1:\n",
    "        sol.append((s,len(trace)-1))\n",
    "    \n",
    "    return sol"
   ]
  },
  {
   "cell_type": "code",
   "execution_count": 5,
   "metadata": {},
   "outputs": [],
   "source": [
    "#return the sub-sequences for scope x UNTIL y\n",
    "def between (trace, x, y):\n",
    "    \n",
    "    assert type(trace) == list\n",
    "    assert type(x) == list\n",
    "    assert type(y) == list\n",
    "    \n",
    "    #find all instances of until\n",
    "    s = -1\n",
    "    e = -1\n",
    "    sol = []\n",
    "    \n",
    "    for pos in range(len(trace)):\n",
    "        \n",
    "        if trace[pos] in x and s == -1:\n",
    "            s = pos\n",
    "        \n",
    "        if trace[pos] in y and s != -1:\n",
    "            e = pos\n",
    "            sol.append((s,e))\n",
    "            s = -1\n",
    "            e = -1\n",
    "    \n",
    "    return sol"
   ]
  },
  {
   "cell_type": "markdown",
   "metadata": {},
   "source": [
    "# Property Functions"
   ]
  },
  {
   "cell_type": "code",
   "execution_count": 6,
   "metadata": {},
   "outputs": [],
   "source": [
    "def absence (trace, scope, condition):\n",
    "    \n",
    "    assert type(trace) == list\n",
    "    assert type(scope) == list\n",
    "    assert type(condition) == list\n",
    "    \n",
    "    sol = []\n",
    "    \n",
    "    for subsequence in scope:\n",
    "        for item in condition:\n",
    "            if item in trace[subsequence[0]:subsequence[1]+1]:\n",
    "                sol.append(False)\n",
    "            else:\n",
    "                sol.append(True)\n",
    "    \n",
    "    return sol"
   ]
  },
  {
   "cell_type": "code",
   "execution_count": 7,
   "metadata": {},
   "outputs": [],
   "source": [
    "def existence (trace, scope, condition):\n",
    "    \n",
    "    assert type(trace) == list\n",
    "    assert type(scope) == list\n",
    "    assert type(condition) == list\n",
    "    \n",
    "    sol = []\n",
    "    \n",
    "    for subsequence in scope:\n",
    "        for item in condition:\n",
    "            if item in trace[subsequence[0]:subsequence[1]+1]:\n",
    "                sol.append(True)\n",
    "            else:\n",
    "                sol.append(False)\n",
    "    \n",
    "    return sol"
   ]
  },
  {
   "cell_type": "code",
   "execution_count": 8,
   "metadata": {},
   "outputs": [],
   "source": [
    "def universality (trace, scope, condition):\n",
    "    \n",
    "    assert type(trace) == list\n",
    "    assert type(scope) == list\n",
    "    assert type(condition) == list\n",
    "    \n",
    "    sol = []\n",
    "    \n",
    "    for subsequence in scope:\n",
    "        flag = True\n",
    "        for item in trace[subsequence[0]:subsequence[1]+1]:\n",
    "            if item not in condition:\n",
    "                sol.append(False)\n",
    "                flag = False\n",
    "                break \n",
    "        if flag:\n",
    "            sol.append(True)\n",
    "    \n",
    "    return sol"
   ]
  },
  {
   "cell_type": "code",
   "execution_count": 9,
   "metadata": {},
   "outputs": [],
   "source": [
    "def response (trace, scope, condition1, condition2):\n",
    "    \n",
    "    assert type(trace) == list\n",
    "    assert type(scope) == list\n",
    "    assert type(condition1) == list\n",
    "    assert type(condition2) == list\n",
    "    \n",
    "    sol = []\n",
    "    \n",
    "    for subsequence in scope:\n",
    "        c1 = -1\n",
    "        c2 = -1\n",
    "        ind = 0\n",
    "        for item in trace[subsequence[0]: subsequence[1]+1]:\n",
    "            if item in condition1 and c1 == -1:\n",
    "                c1 = ind\n",
    "            if item in condition2 and c2 == -1:\n",
    "                c2 = ind\n",
    "            ind += 1\n",
    "        if c1 > c2:\n",
    "            sol.append(True)\n",
    "        else:\n",
    "            sol.append(False)\n",
    "    \n",
    "    return sol"
   ]
  },
  {
   "cell_type": "code",
   "execution_count": 10,
   "metadata": {},
   "outputs": [],
   "source": [
    "def precedence (trace, scope, condition1, condition2):\n",
    "    \n",
    "    assert type(trace) == list\n",
    "    assert type(scope) == list\n",
    "    assert type(condition1) == list\n",
    "    assert type(condition2) == list\n",
    "    \n",
    "    sol = []\n",
    "    \n",
    "    for subsequence in scope:\n",
    "        c1 = -1\n",
    "        c2 = -1\n",
    "        ind = 0\n",
    "        for item in trace[subsequence[0]: subsequence[1]+1]:\n",
    "            if item in condition1 and c1 == -1:\n",
    "                c1 = ind\n",
    "            if item in condition2 and c2 == -1:\n",
    "                c2 = ind\n",
    "            ind += 1\n",
    "        if (c1 < c2) or (c1 == -1 or c2 == -1):\n",
    "            sol.append(True)\n",
    "        else:\n",
    "            sol.append(False)\n",
    "    \n",
    "    return sol"
   ]
  },
  {
   "cell_type": "code",
   "execution_count": 21,
   "metadata": {},
   "outputs": [],
   "source": [
    "def cost (trace, scope, condition, limit):\n",
    "    \n",
    "    assert type(trace) == list\n",
    "    assert type(scope) == list\n",
    "    assert type(condition) == list\n",
    "    assert type(limit) == int\n",
    "    \n",
    "    sol = []\n",
    "    \n",
    "    for subsequence in scope:\n",
    "        c_cost = 0\n",
    "        for item in trace[subsequence[0]+1: subsequence[1]]:\n",
    "            if item in condition:\n",
    "                c_cost += 1\n",
    "        if c_cost <= limit:\n",
    "            sol.append(True)\n",
    "        else:\n",
    "            sol.append(False)\n",
    "    \n",
    "    return sol"
   ]
  },
  {
   "cell_type": "code",
   "execution_count": 11,
   "metadata": {},
   "outputs": [
    {
     "name": "stdout",
     "output_type": "stream",
     "text": [
      "[(0, 3), (6, 9)]\n",
      "[False, True]\n"
     ]
    }
   ],
   "source": [
    "a = between([\"a\",\"a\",\"a\",\"b\",\"c\",\"d\",\"a\",\"c\",\"a\",\"b\"], [\"a\"], [\"b\"])\n",
    "print(a)\n",
    "print(existence([\"a\",\"a\",\"a\",\"b\",\"c\",\"d\",\"a\",\"c\",\"a\",\"b\"], a, [\"c\"]))"
   ]
  },
  {
   "cell_type": "code",
   "execution_count": 12,
   "metadata": {},
   "outputs": [
    {
     "data": {
      "text/plain": [
       "[True, False]"
      ]
     },
     "execution_count": 12,
     "metadata": {},
     "output_type": "execute_result"
    }
   ],
   "source": [
    "a = between([\"a\",\"a\",\"a\",\"b\",\"c\",\"d\",\"a\",\"c\",\"a\",\"b\"], [\"a\"], [\"b\"])\n",
    "universality([\"a\",\"a\",\"a\",\"b\",\"c\",\"d\",\"a\",\"c\",\"a\",\"b\"], a, [\"a\",\"b\"])"
   ]
  },
  {
   "cell_type": "code",
   "execution_count": 13,
   "metadata": {},
   "outputs": [
    {
     "data": {
      "text/plain": [
       "[True, True]"
      ]
     },
     "execution_count": 13,
     "metadata": {},
     "output_type": "execute_result"
    }
   ],
   "source": [
    "a = between([\"a\",\"a\",\"a\",\"b\",\"c\",\"d\",\"a\",\"c\",\"a\",\"b\"], [\"a\"], [\"b\"])\n",
    "precedence([\"a\",\"a\",\"a\",\"b\",\"c\",\"d\",\"a\",\"c\",\"a\",\"b\"], a, [\"c\"], [\"b\"])"
   ]
  },
  {
   "cell_type": "code",
   "execution_count": 23,
   "metadata": {},
   "outputs": [
    {
     "data": {
      "text/plain": [
       "[False, True]"
      ]
     },
     "execution_count": 23,
     "metadata": {},
     "output_type": "execute_result"
    }
   ],
   "source": [
    "a = between([\"a\",\"a\",\"a\",\"b\",\"c\",\"d\",\"a\",\"c\",\"a\",\"b\"], [\"a\"], [\"b\"])\n",
    "cost([\"a\",\"a\",\"a\",\"b\",\"c\",\"d\",\"a\",\"c\",\"a\",\"b\"], a, [\"a\"], 1)"
   ]
  },
  {
   "cell_type": "markdown",
   "metadata": {},
   "source": [
    "# Test on sample trace data"
   ]
  },
  {
   "cell_type": "code",
   "execution_count": 14,
   "metadata": {},
   "outputs": [],
   "source": [
    "dat1 = pd.read_csv('./../../data/graham.norton.s22.e08_data.csv')\n",
    "dat2 = pd.read_csv('./../../data/graham.norton.s22.e12_data.csv')\n",
    "dat3 = pd.read_csv('./../../data/blackpink_data.csv')\n",
    "dat4 = pd.read_csv('./../../data/graham.norton.s22e01.csv')\n",
    "dat5 = pd.read_csv('./../../data/graham.norton.s22e02.csv')\n",
    "dat6 = pd.read_csv('./../../data/graham.norton.s22e07.csv')\n",
    "dat7 = pd.read_csv('./../../data/graham.norton.s22e15.csv')\n",
    "dat8 = pd.read_csv('./../../data/graham.norton.s22e19.csv')\n",
    "dat9 = pd.read_csv('./../../data/graham.norton.s24e10.csv')\n",
    "dat10 = pd.read_csv('./../../data/american_factory.csv')\n",
    "dat11 = pd.read_csv('./../../data/taylor_swift_miss_americana.csv')\n",
    "dat12 = pd.read_csv('./../../data/spider-man_into_the_spider-verse.csv')\n",
    "\n",
    "test1 = list(dat1.L) #graham norton\n",
    "test2 = list(dat2.L)\n",
    "test3 = list(dat3.L) #blackpink\n",
    "test4 = list(dat4.L) #graham norton\n",
    "test5 = list(dat5.L)\n",
    "test6 = list(dat6.L)\n",
    "test7 = list(dat7.L)\n",
    "test8 = list(dat8.L)\n",
    "test9 = list(dat9.L)\n",
    "test10 = list(dat10.L) #american factory\n",
    "test11 = list(dat11.L) #taylor swift\n",
    "test12 = list(dat12.L) #spider-verse"
   ]
  },
  {
   "cell_type": "code",
   "execution_count": 15,
   "metadata": {},
   "outputs": [
    {
     "name": "stdout",
     "output_type": "stream",
     "text": [
      "Percentage of violations:  0.16129032258064516\n",
      "Location of violations:  [[  77   81]\n",
      " [  95   97]\n",
      " [ 157  175]\n",
      " [ 239  273]\n",
      " [ 312  317]\n",
      " [ 342  348]\n",
      " [ 349  359]\n",
      " [ 429  477]\n",
      " [ 501  550]\n",
      " [ 592  607]\n",
      " [ 653  668]\n",
      " [ 803  807]\n",
      " [ 976  987]\n",
      " [1002 1024]\n",
      " [1029 1035]]\n"
     ]
    }
   ],
   "source": [
    "#scope:Global\n",
    "scope1 = between(test1, [\"open.question\", \"closed.question\"], [\"respond.agree\", \"respond.deny\"])\n",
    "pattern1 = absence(test1, scope1, [\"relax.atmosphere\"])\n",
    "violations1 = np.array(scope1)[~np.array(pattern1)]\n",
    "\n",
    "#print violations, lengths, relevant analytics\n",
    "print(\"Percentage of violations: \", len(violations1)/len(scope1))\n",
    "print(\"Location of violations: \", violations1)"
   ]
  },
  {
   "cell_type": "code",
   "execution_count": 16,
   "metadata": {},
   "outputs": [
    {
     "name": "stdout",
     "output_type": "stream",
     "text": [
      "[(68, 70), (77, 81), (95, 97), (100, 110), (118, 119), (123, 124), (125, 126), (137, 138), (146, 148), (151, 152), (153, 154), (157, 175), (180, 182), (189, 190), (204, 205), (206, 207), (208, 209), (211, 226), (229, 230), (239, 273), (277, 278), (281, 282), (293, 294), (308, 310), (312, 317), (329, 331), (332, 333), (335, 337), (338, 340), (342, 348), (349, 359), (365, 367), (374, 375), (377, 379), (389, 391), (415, 416), (418, 423), (429, 477), (482, 483), (491, 492), (493, 494), (498, 499), (501, 550), (560, 561), (567, 575), (580, 581), (583, 584), (589, 590), (592, 607), (644, 646), (653, 668), (669, 670), (675, 676), (680, 684), (685, 686), (700, 701), (703, 704), (709, 710), (722, 729), (730, 731), (737, 738), (741, 743), (772, 773), (785, 786), (787, 788), (790, 791), (795, 797), (803, 807), (810, 811), (821, 822), (824, 828), (830, 831), (904, 906), (909, 910), (912, 913), (918, 919), (926, 927), (939, 941), (946, 947), (949, 950), (952, 953), (966, 970), (971, 972), (973, 974), (976, 987), (989, 990), (991, 992), (1000, 1001), (1002, 1024), (1029, 1035), (1038, 1039), (1041, 1042), (1043, 1055)]\n"
     ]
    }
   ],
   "source": [
    "print(scope1)"
   ]
  },
  {
   "cell_type": "code",
   "execution_count": null,
   "metadata": {},
   "outputs": [],
   "source": []
  }
 ],
 "metadata": {
  "kernelspec": {
   "display_name": "Python 3",
   "language": "python",
   "name": "python3"
  },
  "language_info": {
   "codemirror_mode": {
    "name": "ipython",
    "version": 3
   },
   "file_extension": ".py",
   "mimetype": "text/x-python",
   "name": "python",
   "nbconvert_exporter": "python",
   "pygments_lexer": "ipython3",
   "version": "3.6.9"
  }
 },
 "nbformat": 4,
 "nbformat_minor": 2
}
