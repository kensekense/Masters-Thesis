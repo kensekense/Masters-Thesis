{
 "cells": [
  {
   "cell_type": "code",
   "execution_count": 1,
   "metadata": {},
   "outputs": [],
   "source": [
    "import numpy as np"
   ]
  },
  {
   "cell_type": "markdown",
   "metadata": {},
   "source": [
    "# Motivations\n",
    "On top of the similarity measures that we've been exploring in terms of co-occurrences and likelihood ratios, there may be some interest to look at longer term dependencies in conversation traces. These longer term dependencies can also be documented via frequency and compared, but determining the validity of a longer sequence in a robust manner is challenging.\n",
    "\n",
    "We consider first simple notions of logical statements that pattern match longer sequences, and eventually look at logics such as LTL and variations of such in order to specify these longer sequence concepts, which we call \"sub-conversations.\""
   ]
  },
  {
   "cell_type": "code",
   "execution_count": 78,
   "metadata": {},
   "outputs": [
    {
     "data": {
      "text/plain": [
       "164"
      ]
     },
     "execution_count": 78,
     "metadata": {},
     "output_type": "execute_result"
    }
   ],
   "source": [
    "sequence = \"abbabbabbabbaccbabacbabcbcbcbabacbcbcbcbababcdcbcbabaacbcbcbacbacbabcabcbbcbcababcabcabcbacbabcababcbacbcbacbabcbcbacbbcccabcabcbacbcbabcbcabcbcabccacdbabbcabcbacba\"\n",
    "a = [x for x in sequence]\n",
    "len(a)"
   ]
  },
  {
   "cell_type": "code",
   "execution_count": 79,
   "metadata": {},
   "outputs": [],
   "source": [
    "#for this 162 sequence, let's find the long sequence \"abba\" like we would find a 4-gram\n",
    "def match_pattern(trace, pat):\n",
    "    \n",
    "    assert type(pat) == list\n",
    "    assert type(trace) == list\n",
    "    \n",
    "    loc = {}\n",
    "    freq = {}\n",
    "    \n",
    "    for item in pat:\n",
    "        for i in range(len(trace)-len(item)):\n",
    "            if \"\".join(trace[i:i+len(item)]) == item:\n",
    "                try:\n",
    "                    loc[\"{0}\".format(item)][i] = 1\n",
    "                    freq[\"{0}\".format(item)] += 1\n",
    "                except:\n",
    "                    loc[\"{0}\".format(item)] = np.zeros((len(trace),))\n",
    "                    freq[\"{0}\".format(item)] = 1\n",
    "    \n",
    "    return loc, freq"
   ]
  },
  {
   "cell_type": "code",
   "execution_count": 80,
   "metadata": {},
   "outputs": [],
   "source": [
    "l1, f1 = match_pattern(a, [\"abba\",\"ac\"])"
   ]
  },
  {
   "cell_type": "code",
   "execution_count": 81,
   "metadata": {},
   "outputs": [
    {
     "data": {
      "text/plain": [
       "{'abba': array([0., 0., 0., 1., 0., 0., 1., 0., 0., 1., 0., 0., 0., 0., 0., 0., 0.,\n",
       "        0., 0., 0., 0., 0., 0., 0., 0., 0., 0., 0., 0., 0., 0., 0., 0., 0.,\n",
       "        0., 0., 0., 0., 0., 0., 0., 0., 0., 0., 0., 0., 0., 0., 0., 0., 0.,\n",
       "        0., 0., 0., 0., 0., 0., 0., 0., 0., 0., 0., 0., 0., 0., 0., 0., 0.,\n",
       "        0., 0., 0., 0., 0., 0., 0., 0., 0., 0., 0., 0., 0., 0., 0., 0., 0.,\n",
       "        0., 0., 0., 0., 0., 0., 0., 0., 0., 0., 0., 0., 0., 0., 0., 0., 0.,\n",
       "        0., 0., 0., 0., 0., 0., 0., 0., 0., 0., 0., 0., 0., 0., 0., 0., 0.,\n",
       "        0., 0., 0., 0., 0., 0., 0., 0., 0., 0., 0., 0., 0., 0., 0., 0., 0.,\n",
       "        0., 0., 0., 0., 0., 0., 0., 0., 0., 0., 0., 0., 0., 0., 0., 0., 0.,\n",
       "        0., 0., 0., 0., 0., 0., 0., 0., 0., 0., 0.]),\n",
       " 'ac': array([0., 0., 0., 0., 0., 0., 0., 0., 0., 0., 0., 0., 0., 0., 0., 0., 0.,\n",
       "        0., 1., 0., 0., 0., 0., 0., 0., 0., 0., 0., 0., 0., 0., 1., 0., 0.,\n",
       "        0., 0., 0., 0., 0., 0., 0., 0., 0., 0., 0., 0., 0., 0., 0., 0., 0.,\n",
       "        0., 0., 1., 0., 0., 0., 0., 0., 0., 1., 0., 0., 1., 0., 0., 0., 0.,\n",
       "        0., 0., 0., 0., 0., 0., 0., 0., 0., 0., 0., 0., 0., 0., 0., 0., 0.,\n",
       "        0., 0., 0., 0., 1., 0., 0., 0., 0., 0., 0., 0., 0., 0., 0., 0., 1.,\n",
       "        0., 0., 0., 0., 1., 0., 0., 0., 0., 0., 0., 0., 0., 1., 0., 0., 0.,\n",
       "        0., 0., 0., 0., 0., 0., 0., 0., 0., 0., 1., 0., 0., 0., 0., 0., 0.,\n",
       "        0., 0., 0., 0., 0., 0., 0., 0., 0., 0., 0., 0., 1., 0., 0., 0., 0.,\n",
       "        0., 0., 0., 0., 0., 0., 0., 1., 0., 0., 0.])}"
      ]
     },
     "execution_count": 81,
     "metadata": {},
     "output_type": "execute_result"
    }
   ],
   "source": [
    "l1"
   ]
  },
  {
   "cell_type": "code",
   "execution_count": 82,
   "metadata": {},
   "outputs": [
    {
     "data": {
      "text/plain": [
       "{'abba': 4, 'ac': 13}"
      ]
     },
     "execution_count": 82,
     "metadata": {},
     "output_type": "execute_result"
    }
   ],
   "source": [
    "f1"
   ]
  },
  {
   "cell_type": "code",
   "execution_count": 95,
   "metadata": {},
   "outputs": [],
   "source": [
    "#define a find all instances of \"x until y\"\n",
    "def until (trace, x, y):\n",
    "    \n",
    "    assert type(trace) == list\n",
    "    assert type(x) == str\n",
    "    assert type(y) == str\n",
    "    \n",
    "    sol = []\n",
    "    i = 0\n",
    "    j = 0\n",
    "    s = 0\n",
    "    e = 0\n",
    "    for i in range(len(trace)):\n",
    "        if trace[i] == x:\n",
    "            s = i\n",
    "            for j in range(i+1, len(trace)):\n",
    "                if trace[j] == y:\n",
    "                    e = j\n",
    "                    sol.append((s,e))\n",
    "                    i = j\n",
    "                    break\n",
    "                    \n",
    "    return sol\n",
    "            \n",
    "                \n"
   ]
  },
  {
   "cell_type": "code",
   "execution_count": 96,
   "metadata": {},
   "outputs": [
    {
     "data": {
      "text/plain": [
       "[(0, 45),\n",
       " (3, 45),\n",
       " (6, 45),\n",
       " (9, 45),\n",
       " (12, 45),\n",
       " (16, 45),\n",
       " (18, 45),\n",
       " (21, 45),\n",
       " (29, 45),\n",
       " (31, 45),\n",
       " (40, 45),\n",
       " (42, 45),\n",
       " (50, 150),\n",
       " (52, 150),\n",
       " (53, 150),\n",
       " (60, 150),\n",
       " (63, 150),\n",
       " (66, 150),\n",
       " (69, 150),\n",
       " (77, 150),\n",
       " (79, 150),\n",
       " (82, 150),\n",
       " (85, 150),\n",
       " (89, 150),\n",
       " (92, 150),\n",
       " (95, 150),\n",
       " (97, 150),\n",
       " (101, 150),\n",
       " (106, 150),\n",
       " (109, 150),\n",
       " (115, 150),\n",
       " (122, 150),\n",
       " (125, 150),\n",
       " (129, 150),\n",
       " (134, 150),\n",
       " (139, 150),\n",
       " (144, 150),\n",
       " (148, 150)]"
      ]
     },
     "execution_count": 96,
     "metadata": {},
     "output_type": "execute_result"
    }
   ],
   "source": [
    "until(a, \"a\",\"d\")"
   ]
  },
  {
   "cell_type": "code",
   "execution_count": null,
   "metadata": {},
   "outputs": [],
   "source": []
  }
 ],
 "metadata": {
  "kernelspec": {
   "display_name": "Python 3",
   "language": "python",
   "name": "python3"
  },
  "language_info": {
   "codemirror_mode": {
    "name": "ipython",
    "version": 3
   },
   "file_extension": ".py",
   "mimetype": "text/x-python",
   "name": "python",
   "nbconvert_exporter": "python",
   "pygments_lexer": "ipython3",
   "version": "3.6.9"
  }
 },
 "nbformat": 4,
 "nbformat_minor": 2
}
