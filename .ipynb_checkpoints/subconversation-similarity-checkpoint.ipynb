{
 "cells": [
  {
   "cell_type": "code",
   "execution_count": 1,
   "metadata": {},
   "outputs": [],
   "source": [
    "import numpy as np\n",
    "import pandas as pd"
   ]
  },
  {
   "cell_type": "markdown",
   "metadata": {},
   "source": [
    "# Motivations\n",
    "On top of the similarity measures that we've been exploring in terms of co-occurrences and likelihood ratios, there may be some interest to look at longer term dependencies in conversation traces. These longer term dependencies can also be documented via frequency and compared, but determining the validity of a longer sequence in a robust manner is challenging.\n",
    "\n",
    "We consider first simple notions of logical statements that pattern match longer sequences, and eventually look at logics such as LTL and variations of such in order to specify these longer sequence concepts, which we call \"sub-conversations.\""
   ]
  },
  {
   "cell_type": "code",
   "execution_count": 2,
   "metadata": {},
   "outputs": [
    {
     "data": {
      "text/plain": [
       "164"
      ]
     },
     "execution_count": 2,
     "metadata": {},
     "output_type": "execute_result"
    }
   ],
   "source": [
    "sequence = \"abbabbabbabbaccbabacbabcbcbcbabacbcbcbcbababcdcbcbabaacbcbcbacbacbabcabcbbcbcababcabcabcbacbabcababcbacbcbacbabcbcbacbbcccabcabcbacbcbabcbcabcbcabccacdbabbcabcbacba\"\n",
    "a = [x for x in sequence]\n",
    "len(a)"
   ]
  },
  {
   "cell_type": "code",
   "execution_count": 3,
   "metadata": {},
   "outputs": [],
   "source": [
    "#for this 162 sequence, let's find the long sequence \"abba\" like we would find a 4-gram\n",
    "def match_pattern(trace, pat):\n",
    "    \n",
    "    assert type(pat) == list\n",
    "    assert type(trace) == list\n",
    "    \n",
    "    loc = {}\n",
    "    freq = {}\n",
    "    \n",
    "    for item in pat:\n",
    "        for i in range(len(trace)-len(item)):\n",
    "            if \"\".join(trace[i:i+len(item)]) == item:\n",
    "                try:\n",
    "                    loc[\"{0}\".format(item)][i] = 1\n",
    "                    freq[\"{0}\".format(item)] += 1\n",
    "                except:\n",
    "                    loc[\"{0}\".format(item)] = np.zeros((len(trace),))\n",
    "                    freq[\"{0}\".format(item)] = 1\n",
    "    \n",
    "    return loc, freq"
   ]
  },
  {
   "cell_type": "code",
   "execution_count": 4,
   "metadata": {},
   "outputs": [],
   "source": [
    "l1, f1 = match_pattern(a, [\"abba\",\"ac\"])"
   ]
  },
  {
   "cell_type": "code",
   "execution_count": 5,
   "metadata": {},
   "outputs": [
    {
     "data": {
      "text/plain": [
       "{'abba': array([0., 0., 0., 1., 0., 0., 1., 0., 0., 1., 0., 0., 0., 0., 0., 0., 0.,\n",
       "        0., 0., 0., 0., 0., 0., 0., 0., 0., 0., 0., 0., 0., 0., 0., 0., 0.,\n",
       "        0., 0., 0., 0., 0., 0., 0., 0., 0., 0., 0., 0., 0., 0., 0., 0., 0.,\n",
       "        0., 0., 0., 0., 0., 0., 0., 0., 0., 0., 0., 0., 0., 0., 0., 0., 0.,\n",
       "        0., 0., 0., 0., 0., 0., 0., 0., 0., 0., 0., 0., 0., 0., 0., 0., 0.,\n",
       "        0., 0., 0., 0., 0., 0., 0., 0., 0., 0., 0., 0., 0., 0., 0., 0., 0.,\n",
       "        0., 0., 0., 0., 0., 0., 0., 0., 0., 0., 0., 0., 0., 0., 0., 0., 0.,\n",
       "        0., 0., 0., 0., 0., 0., 0., 0., 0., 0., 0., 0., 0., 0., 0., 0., 0.,\n",
       "        0., 0., 0., 0., 0., 0., 0., 0., 0., 0., 0., 0., 0., 0., 0., 0., 0.,\n",
       "        0., 0., 0., 0., 0., 0., 0., 0., 0., 0., 0.]),\n",
       " 'ac': array([0., 0., 0., 0., 0., 0., 0., 0., 0., 0., 0., 0., 0., 0., 0., 0., 0.,\n",
       "        0., 1., 0., 0., 0., 0., 0., 0., 0., 0., 0., 0., 0., 0., 1., 0., 0.,\n",
       "        0., 0., 0., 0., 0., 0., 0., 0., 0., 0., 0., 0., 0., 0., 0., 0., 0.,\n",
       "        0., 0., 1., 0., 0., 0., 0., 0., 0., 1., 0., 0., 1., 0., 0., 0., 0.,\n",
       "        0., 0., 0., 0., 0., 0., 0., 0., 0., 0., 0., 0., 0., 0., 0., 0., 0.,\n",
       "        0., 0., 0., 0., 1., 0., 0., 0., 0., 0., 0., 0., 0., 0., 0., 0., 1.,\n",
       "        0., 0., 0., 0., 1., 0., 0., 0., 0., 0., 0., 0., 0., 1., 0., 0., 0.,\n",
       "        0., 0., 0., 0., 0., 0., 0., 0., 0., 0., 1., 0., 0., 0., 0., 0., 0.,\n",
       "        0., 0., 0., 0., 0., 0., 0., 0., 0., 0., 0., 0., 1., 0., 0., 0., 0.,\n",
       "        0., 0., 0., 0., 0., 0., 0., 1., 0., 0., 0.])}"
      ]
     },
     "execution_count": 5,
     "metadata": {},
     "output_type": "execute_result"
    }
   ],
   "source": [
    "l1"
   ]
  },
  {
   "cell_type": "code",
   "execution_count": 6,
   "metadata": {},
   "outputs": [
    {
     "data": {
      "text/plain": [
       "{'abba': 4, 'ac': 13}"
      ]
     },
     "execution_count": 6,
     "metadata": {},
     "output_type": "execute_result"
    }
   ],
   "source": [
    "f1"
   ]
  },
  {
   "cell_type": "code",
   "execution_count": 7,
   "metadata": {},
   "outputs": [],
   "source": [
    "#helper function to count the occurrences of violations to the label\n",
    "def count_label (sub, labels):\n",
    "    assert type(sub) == list\n",
    "    assert type(labels) == list\n",
    "    \n",
    "    count = 0\n",
    "    for item in sub:\n",
    "        if item not in labels:\n",
    "            count += 1\n",
    "    return count"
   ]
  },
  {
   "cell_type": "code",
   "execution_count": 8,
   "metadata": {},
   "outputs": [],
   "source": [
    "#define a find all instances of \"x until y\"\n",
    "def until (trace, x, y):\n",
    "    \n",
    "    assert type(trace) == list\n",
    "    assert type(x) == list\n",
    "    assert type(y) == list\n",
    "    \n",
    "    #find all instances of until\n",
    "    s = -1\n",
    "    e = -1\n",
    "    sol = []\n",
    "    \n",
    "    for pos in range(len(trace)):\n",
    "        \n",
    "        if trace[pos] in x and s == -1:\n",
    "            s = pos\n",
    "        \n",
    "        if trace[pos] in y and s != -1:\n",
    "            e = pos\n",
    "            sol.append((s,e))\n",
    "            s = -1\n",
    "            e = -1\n",
    "\n",
    "    return sol\n"
   ]
  },
  {
   "cell_type": "code",
   "execution_count": 9,
   "metadata": {},
   "outputs": [
    {
     "data": {
      "text/plain": [
       "[(0, 45), (47, 150)]"
      ]
     },
     "execution_count": 9,
     "metadata": {},
     "output_type": "execute_result"
    }
   ],
   "source": [
    "until(a, [\"a\", \"b\"],[\"d\"])"
   ]
  },
  {
   "cell_type": "code",
   "execution_count": 10,
   "metadata": {},
   "outputs": [],
   "source": [
    "#re-define until N function\n",
    "def until_N (trace, x, y, N):\n",
    "    \n",
    "    assert type(trace) == list\n",
    "    assert type(x) == list\n",
    "    assert type(y) == list\n",
    "    \n",
    "    sol = []\n",
    "    current = N\n",
    "    s = -1\n",
    "    e = -1\n",
    "    for i in range(len(trace)):\n",
    "        \n",
    "        if (trace[i] in x) and e == -1 and s == -1: #finding first instance of x\n",
    "            s = i\n",
    "        \n",
    "        if (s != -1) and (trace[i] not in x) and (trace[i] not in y): #started count and violates Until\n",
    "            \n",
    "            if current <= 0: #no more N to give\n",
    "                s = -1\n",
    "                e = -1\n",
    "                current = N\n",
    "                continue #search for next\n",
    "                \n",
    "            else: #more N to give, decrement\n",
    "                current -= 1\n",
    "        \n",
    "        if s != -1 and (trace[i] in y): #found instance of y and x\n",
    "            e = i\n",
    "            sol.append((s,e, count_label(trace[s:e],x), e-s)) #append starting and ending index, with number of appearances of x\n",
    "            s = -1\n",
    "            e = -1\n",
    "    \n",
    "    return sol"
   ]
  },
  {
   "cell_type": "code",
   "execution_count": 11,
   "metadata": {},
   "outputs": [
    {
     "name": "stdout",
     "output_type": "stream",
     "text": [
      "[(0, 45, 33, 45), (144, 150, 4, 6)]\n",
      "['a', 'b', 'b', 'a', 'b', 'b', 'a', 'b', 'b', 'a', 'b', 'b', 'a', 'c', 'c', 'b', 'a', 'b', 'a', 'c', 'b', 'a', 'b', 'c', 'b', 'c', 'b', 'c', 'b', 'a', 'b', 'a', 'c', 'b', 'c', 'b', 'c', 'b', 'c', 'b']\n"
     ]
    }
   ],
   "source": [
    "print(until_N(a, [\"a\"], [\"d\"], 100))\n",
    "print(a[0:40])"
   ]
  },
  {
   "cell_type": "code",
   "execution_count": 12,
   "metadata": {},
   "outputs": [],
   "source": [
    "#data\n",
    "dat1 = pd.read_csv('./graham.norton.s22.e08_data.csv')\n",
    "dat2 = pd.read_csv('./graham.norton.s22.e12_data.csv')\n",
    "dat3 = pd.read_csv('./blackpink_data.csv')\n",
    "test1 = list(dat1.L)\n",
    "test2 = list(dat2.L)\n",
    "test3 = list(dat3.L)"
   ]
  },
  {
   "cell_type": "code",
   "execution_count": 13,
   "metadata": {},
   "outputs": [
    {
     "data": {
      "text/plain": [
       "[(10, 30, 16, 20),\n",
       " (37, 45, 3, 8),\n",
       " (51, 70, 16, 19),\n",
       " (80, 200, 115, 120),\n",
       " (204, 209, 2, 5),\n",
       " (230, 325, 72, 95),\n",
       " (332, 352, 12, 20),\n",
       " (353, 366, 9, 13),\n",
       " (367, 413, 33, 46),\n",
       " (417, 440, 8, 23),\n",
       " (472, 531, 26, 59),\n",
       " (533, 551, 10, 18),\n",
       " (555, 558, 2, 3),\n",
       " (565, 715, 91, 150),\n",
       " (722, 729, 5, 7),\n",
       " (731, 814, 60, 83),\n",
       " (820, 833, 12, 13),\n",
       " (834, 872, 35, 38),\n",
       " (880, 920, 33, 40),\n",
       " (922, 940, 14, 18),\n",
       " (941, 965, 20, 24),\n",
       " (971, 996, 21, 25),\n",
       " (1001, 1015, 11, 14),\n",
       " (1058, 1152, 89, 94),\n",
       " (1176, 1239, 60, 63),\n",
       " (1261, 1271, 8, 10),\n",
       " (1277, 1284, 3, 7)]"
      ]
     },
     "execution_count": 13,
     "metadata": {},
     "output_type": "execute_result"
    }
   ],
   "source": [
    "#try Recall.From.Memory\n",
    "until_N(test3, [\"recall\"],[\"respond.agree\", \"respond.deny\"], 1000)"
   ]
  },
  {
   "cell_type": "code",
   "execution_count": 14,
   "metadata": {},
   "outputs": [
    {
     "data": {
      "text/plain": [
       "[(25, 30, 3, 5),\n",
       " (32, 35, 0, 3),\n",
       " (36, 45, 6, 9),\n",
       " (48, 70, 14, 22),\n",
       " (72, 200, 57, 128),\n",
       " (202, 209, 3, 7),\n",
       " (210, 325, 50, 115),\n",
       " (329, 352, 13, 23),\n",
       " (357, 366, 6, 9),\n",
       " (372, 413, 23, 41),\n",
       " (414, 440, 18, 26),\n",
       " (443, 531, 50, 88),\n",
       " (535, 551, 6, 16),\n",
       " (554, 558, 2, 4),\n",
       " (563, 715, 69, 152),\n",
       " (720, 729, 3, 9),\n",
       " (730, 814, 54, 84),\n",
       " (817, 833, 9, 16),\n",
       " (836, 872, 14, 36),\n",
       " (875, 876, 0, 1),\n",
       " (877, 920, 18, 43),\n",
       " (921, 940, 9, 19),\n",
       " (943, 965, 6, 22),\n",
       " (968, 996, 15, 28),\n",
       " (997, 1015, 3, 18),\n",
       " (1016, 1027, 1, 11),\n",
       " (1030, 1037, 1, 7),\n",
       " (1038, 1152, 36, 114),\n",
       " (1153, 1239, 28, 86),\n",
       " (1240, 1247, 1, 7),\n",
       " (1255, 1271, 9, 16),\n",
       " (1272, 1274, 1, 2),\n",
       " (1280, 1284, 3, 4),\n",
       " (1287, 1292, 2, 5)]"
      ]
     },
     "execution_count": 14,
     "metadata": {},
     "output_type": "execute_result"
    }
   ],
   "source": [
    "#try Give.Monologue\n",
    "until_N(test3, [\"give.statement\", \"give.opinion\"], [\"respond.agree\",\"respond.deny\"], 1000)"
   ]
  },
  {
   "cell_type": "code",
   "execution_count": 15,
   "metadata": {},
   "outputs": [],
   "source": [
    "def define_symbols (traces):\n",
    "    assert type(traces) == list\n",
    "    symbols = []\n",
    "    for item in traces:\n",
    "        symbols.append(set(item))\n",
    "    x = symbols[0]\n",
    "    for i in range(len(symbols)):\n",
    "        x = x.union(symbols[i])\n",
    "    \n",
    "    return list(x)"
   ]
  },
  {
   "cell_type": "code",
   "execution_count": 23,
   "metadata": {
    "scrolled": true
   },
   "outputs": [
    {
     "name": "stdout",
     "output_type": "stream",
     "text": [
      "label give.statement -> respond.deny\n",
      "--\n",
      "label give.statement -> closed.question\n",
      "--\n",
      "label give.statement -> recall\n",
      "--\n",
      "label give.statement -> give.opinion\n",
      "(155, 166, 2, 11)\n",
      "--\n",
      "label give.statement -> respond.agree\n",
      "--\n",
      "label give.statement -> use.social.convention\n",
      "--\n",
      "label give.statement -> open.question\n",
      "--\n",
      "label give.statement -> relax.atmosphere\n",
      "--\n",
      "label give.statement -> deflection\n",
      "--\n",
      "label respond.deny -> give.statement\n",
      "--\n",
      "label respond.deny -> closed.question\n",
      "--\n",
      "label respond.deny -> recall\n",
      "--\n",
      "label respond.deny -> give.opinion\n",
      "--\n",
      "label respond.deny -> respond.agree\n",
      "--\n",
      "label respond.deny -> use.social.convention\n",
      "--\n",
      "label respond.deny -> open.question\n",
      "--\n",
      "label respond.deny -> relax.atmosphere\n",
      "--\n",
      "label respond.deny -> deflection\n",
      "--\n",
      "label closed.question -> give.statement\n",
      "--\n",
      "label closed.question -> respond.deny\n",
      "--\n",
      "label closed.question -> recall\n",
      "--\n",
      "label closed.question -> give.opinion\n",
      "--\n",
      "label closed.question -> respond.agree\n",
      "--\n",
      "label closed.question -> use.social.convention\n",
      "--\n",
      "label closed.question -> open.question\n",
      "--\n",
      "label closed.question -> relax.atmosphere\n",
      "--\n",
      "label closed.question -> deflection\n",
      "--\n",
      "label recall -> give.statement\n",
      "(472, 495, 9, 23)\n",
      "(496, 520, 9, 24)\n",
      "(590, 611, 6, 21)\n",
      "--\n",
      "label recall -> respond.deny\n",
      "--\n",
      "label recall -> closed.question\n",
      "(417, 439, 7, 22)\n",
      "--\n",
      "label recall -> give.opinion\n",
      "(485, 503, 5, 18)\n",
      "(509, 522, 3, 13)\n",
      "(601, 616, 2, 15)\n",
      "--\n",
      "label recall -> respond.agree\n",
      "(417, 440, 8, 23)\n",
      "--\n",
      "label recall -> use.social.convention\n",
      "(775, 795, 5, 20)\n",
      "--\n",
      "label recall -> open.question\n",
      "--\n",
      "label recall -> relax.atmosphere\n",
      "(420, 441, 7, 21)\n",
      "(509, 532, 9, 23)\n",
      "--\n",
      "label recall -> deflection\n",
      "--\n",
      "label give.opinion -> give.statement\n",
      "(119, 146, 8, 27)\n",
      "(236, 249, 1, 13)\n",
      "(451, 469, 2, 18)\n",
      "(997, 1024, 4, 27)\n",
      "(1054, 1079, 4, 25)\n",
      "(1118, 1131, 4, 13)\n",
      "(1132, 1156, 8, 24)\n",
      "--\n",
      "label give.opinion -> respond.deny\n",
      "--\n",
      "label give.opinion -> closed.question\n",
      "(968, 982, 5, 14)\n",
      "(997, 1026, 6, 29)\n",
      "--\n",
      "label give.opinion -> recall\n",
      "(207, 230, 8, 23)\n",
      "(231, 251, 5, 20)\n",
      "(269, 280, 2, 11)\n",
      "(618, 631, 2, 13)\n",
      "(681, 693, 2, 12)\n",
      "(796, 809, 0, 13)\n",
      "(943, 954, 3, 11)\n",
      "(1060, 1086, 3, 26)\n",
      "(1153, 1176, 8, 23)\n",
      "--\n",
      "label give.opinion -> respond.agree\n",
      "(1016, 1027, 3, 11)\n",
      "--\n",
      "label give.opinion -> use.social.convention\n",
      "(132, 150, 7, 18)\n",
      "(166, 177, 4, 11)\n",
      "(796, 824, 11, 28)\n",
      "(1118, 1146, 6, 28)\n",
      "(1224, 1249, 6, 25)\n",
      "--\n",
      "label give.opinion -> open.question\n",
      "(115, 140, 7, 25)\n",
      "(173, 184, 2, 11)\n",
      "(190, 201, 4, 11)\n",
      "--\n",
      "label give.opinion -> relax.atmosphere\n",
      "(1054, 1077, 3, 23)\n",
      "(1091, 1103, 2, 12)\n",
      "(1104, 1115, 3, 11)\n",
      "(1125, 1148, 3, 23)\n",
      "(1232, 1244, 2, 12)\n",
      "--\n",
      "label give.opinion -> deflection\n",
      "--\n",
      "label respond.agree -> give.statement\n",
      "--\n",
      "label respond.agree -> respond.deny\n",
      "--\n",
      "label respond.agree -> closed.question\n",
      "--\n",
      "label respond.agree -> recall\n",
      "--\n",
      "label respond.agree -> give.opinion\n",
      "--\n",
      "label respond.agree -> use.social.convention\n",
      "--\n",
      "label respond.agree -> open.question\n",
      "--\n",
      "label respond.agree -> relax.atmosphere\n",
      "--\n",
      "label respond.agree -> deflection\n",
      "--\n",
      "label use.social.convention -> give.statement\n",
      "--\n",
      "label use.social.convention -> respond.deny\n",
      "--\n",
      "label use.social.convention -> closed.question\n",
      "--\n",
      "label use.social.convention -> recall\n",
      "--\n",
      "label use.social.convention -> give.opinion\n",
      "--\n",
      "label use.social.convention -> respond.agree\n",
      "--\n",
      "label use.social.convention -> open.question\n",
      "--\n",
      "label use.social.convention -> relax.atmosphere\n",
      "--\n",
      "label use.social.convention -> deflection\n",
      "--\n",
      "label open.question -> give.statement\n",
      "--\n",
      "label open.question -> respond.deny\n",
      "--\n",
      "label open.question -> closed.question\n",
      "--\n",
      "label open.question -> recall\n",
      "--\n",
      "label open.question -> give.opinion\n",
      "--\n",
      "label open.question -> respond.agree\n",
      "--\n",
      "label open.question -> use.social.convention\n",
      "--\n",
      "label open.question -> relax.atmosphere\n",
      "--\n",
      "label open.question -> deflection\n",
      "--\n",
      "label relax.atmosphere -> give.statement\n",
      "--\n",
      "label relax.atmosphere -> respond.deny\n",
      "--\n",
      "label relax.atmosphere -> closed.question\n",
      "--\n",
      "label relax.atmosphere -> recall\n",
      "--\n",
      "label relax.atmosphere -> give.opinion\n",
      "--\n",
      "label relax.atmosphere -> respond.agree\n",
      "--\n",
      "label relax.atmosphere -> use.social.convention\n",
      "--\n",
      "label relax.atmosphere -> open.question\n",
      "--\n",
      "label relax.atmosphere -> deflection\n",
      "--\n",
      "label deflection -> give.statement\n",
      "--\n",
      "label deflection -> respond.deny\n",
      "--\n",
      "label deflection -> closed.question\n",
      "--\n",
      "label deflection -> recall\n",
      "--\n",
      "label deflection -> give.opinion\n",
      "--\n",
      "label deflection -> respond.agree\n",
      "--\n",
      "label deflection -> use.social.convention\n",
      "--\n",
      "label deflection -> open.question\n",
      "--\n",
      "label deflection -> relax.atmosphere\n",
      "--\n",
      "18.75\n"
     ]
    }
   ],
   "source": [
    "#do some combinations, searching for the best properties for until-N statements\n",
    "labels = define_symbols([test3])\n",
    "labels = [x for x in labels if( x != \"misc\" and x !=\"x\") ]\n",
    "\n",
    "#vals store\n",
    "len_store = []\n",
    "\n",
    "#strict one label -> one label definition\n",
    "for i in range(len(labels)):\n",
    "    for j in range(len(labels)):\n",
    "        if i != j:\n",
    "            print(\"label {0} -> {1}\".format(labels[i], labels[j]))\n",
    "            #print(until_N(test3, [labels[i]], [labels[j]], 1000))\n",
    "            candidates = until_N(test3, [labels[i]], [labels[j]], 1000)\n",
    "            for item in candidates:\n",
    "                if item[3] > 10 and item [3] < 30 and item[2] < item[3]*0.40:\n",
    "                    print(item)\n",
    "                    len_store.append(item[3])\n",
    "            print(\"--\")\n",
    "\n",
    "#average length\n",
    "print(np.mean(len_store))"
   ]
  },
  {
   "cell_type": "markdown",
   "metadata": {},
   "source": [
    "# Properties to look for\n",
    "\n",
    "There are some considerations for properties that we might want to look for. Note that we'll have to experiment and so we might have to come back here and change some of these assumptions after correlating with the results in the other sheet!\n",
    "\n",
    "- First, we want the sequences to have lengths somewhere between 10 and 50(?).\n",
    "- Secondly, we want the count for the violations of N to be less than half of the length of the sequence.\n",
    "\n",
    "After observing these properties, there should be a number of label set-ups that generate a handful of these sequences, which we will then consider the label set-up as a sub-conversation. We should then note the frequency at which these sequences occur under the same label set-up, as the frequency of the sub-conversation.\n",
    "\n",
    "For the next step, we will write the function to look for the sequences in a trace that meet the criteria of the good properties, count their frequencies, and return as results"
   ]
  },
  {
   "cell_type": "code",
   "execution_count": 33,
   "metadata": {},
   "outputs": [],
   "source": [
    "#define the function to find all relevant sub-conversations in a trace\n",
    "def find_sub_conversations (trace, labels, c_cap, l):\n",
    "    assert type(trace) == list\n",
    "    assert type(labels) == list\n",
    "    assert type(c_cap) == float\n",
    "    assert type(l) == int\n",
    "    \n",
    "    #counts\n",
    "    sub_convos = {}\n",
    "    \n",
    "    #cycle through label pairs\n",
    "    for i in range(len(labels)):\n",
    "        for j in range(len(labels)):\n",
    "            \n",
    "            if i != j: #no repeats\n",
    "                candidate = until_N(trace, [labels[i]], [labels[j]], 50) #cap at 50\n",
    "                \n",
    "                for item in candidate:\n",
    "                    if item[3] > 10 and item [3] < l and item[2] < item[3]*c_cap:\n",
    "                        try:\n",
    "                            sub_convos[\"{0} -> {1}\".format(labels[i], labels[j])] += 1\n",
    "                        except:\n",
    "                            sub_convos[\"{0} -> {1}\".format(labels[i], labels[j])] = 1\n",
    "    \n",
    "    return sub_convos"
   ]
  },
  {
   "cell_type": "code",
   "execution_count": 34,
   "metadata": {},
   "outputs": [
    {
     "data": {
      "text/plain": [
       "{'give.statement -> give.opinion': 1,\n",
       " 'give.statement -> open.question': 1,\n",
       " 'recall -> give.statement': 3,\n",
       " 'recall -> closed.question': 1,\n",
       " 'recall -> give.opinion': 2,\n",
       " 'recall -> respond.agree': 2,\n",
       " 'recall -> use.social.convention': 1,\n",
       " 'recall -> relax.atmosphere': 2,\n",
       " 'give.opinion -> give.statement': 10,\n",
       " 'give.opinion -> closed.question': 1,\n",
       " 'give.opinion -> recall': 9,\n",
       " 'give.opinion -> respond.agree': 2,\n",
       " 'give.opinion -> use.social.convention': 7,\n",
       " 'give.opinion -> open.question': 3,\n",
       " 'give.opinion -> relax.atmosphere': 6}"
      ]
     },
     "execution_count": 34,
     "metadata": {},
     "output_type": "execute_result"
    }
   ],
   "source": [
    "find_sub_conversations(test3, labels, 0.4, 30)"
   ]
  },
  {
   "cell_type": "code",
   "execution_count": 29,
   "metadata": {},
   "outputs": [
    {
     "data": {
      "text/plain": [
       "{'give.statement -> closed.question': 1,\n",
       " 'give.statement -> give.opinion': 2,\n",
       " 'give.statement -> respond.agree': 1,\n",
       " 'give.statement -> relax.atmosphere': 2,\n",
       " 'recall -> give.statement': 3,\n",
       " 'recall -> closed.question': 2,\n",
       " 'recall -> give.opinion': 1,\n",
       " 'recall -> respond.agree': 1,\n",
       " 'recall -> use.social.convention': 2,\n",
       " 'recall -> relax.atmosphere': 3,\n",
       " 'give.opinion -> closed.question': 4,\n",
       " 'give.opinion -> respond.agree': 2,\n",
       " 'give.opinion -> open.question': 2,\n",
       " 'give.opinion -> relax.atmosphere': 2,\n",
       " 'use.social.convention -> give.statement': 3,\n",
       " 'use.social.convention -> closed.question': 1,\n",
       " 'use.social.convention -> give.opinion': 3,\n",
       " 'use.social.convention -> respond.agree': 1,\n",
       " 'use.social.convention -> relax.atmosphere': 3,\n",
       " 'relax.atmosphere -> closed.question': 1}"
      ]
     },
     "execution_count": 29,
     "metadata": {},
     "output_type": "execute_result"
    }
   ],
   "source": [
    "find_sub_conversations(test1, labels, 0.4, 30)"
   ]
  },
  {
   "cell_type": "code",
   "execution_count": 30,
   "metadata": {},
   "outputs": [
    {
     "data": {
      "text/plain": [
       "{'give.statement -> give.opinion': 2,\n",
       " 'give.statement -> respond.agree': 2,\n",
       " 'give.statement -> use.social.convention': 1,\n",
       " 'give.statement -> relax.atmosphere': 2,\n",
       " 'recall -> give.statement': 3,\n",
       " 'recall -> closed.question': 2,\n",
       " 'recall -> give.opinion': 2,\n",
       " 'recall -> respond.agree': 4,\n",
       " 'recall -> use.social.convention': 3,\n",
       " 'recall -> relax.atmosphere': 2,\n",
       " 'use.social.convention -> give.statement': 1,\n",
       " 'use.social.convention -> closed.question': 1,\n",
       " 'use.social.convention -> recall': 1,\n",
       " 'use.social.convention -> give.opinion': 2,\n",
       " 'use.social.convention -> respond.agree': 1,\n",
       " 'use.social.convention -> relax.atmosphere': 1}"
      ]
     },
     "execution_count": 30,
     "metadata": {},
     "output_type": "execute_result"
    }
   ],
   "source": [
    "find_sub_conversations(test2, labels, 0.4, 30)"
   ]
  },
  {
   "cell_type": "markdown",
   "metadata": {},
   "source": [
    "# We modify the above function to do a modified-hamming distance calculation"
   ]
  },
  {
   "cell_type": "code",
   "execution_count": 64,
   "metadata": {},
   "outputs": [],
   "source": [
    "#modify the function to find all relevant sub-conversations in a trace\n",
    "def compare_sub_conversations (trace1, trace2, labels, c_cap, l):\n",
    "    assert type(trace1) == list\n",
    "    assert type(trace2) == list\n",
    "    assert type(labels) == list\n",
    "    assert type(c_cap) == float\n",
    "    assert type(l) == int\n",
    "    \n",
    "    #counts\n",
    "    sub_convos1 = {}\n",
    "    sub_convos2 = {}\n",
    "    \n",
    "    #cycle through label pairs\n",
    "    for i in range(len(labels)):\n",
    "        for j in range(len(labels)):\n",
    "            \n",
    "            if i != j: #no repeats\n",
    "                candidate = until_N(trace1, [labels[i]], [labels[j]], 50)\n",
    "                sub_convos1[\"{0} -> {1}\".format(labels[i], labels[j])] = 0\n",
    "                \n",
    "                for item in candidate:\n",
    "                    if item[3] > 10 and item [3] < l and item[2] < item[3]*c_cap:\n",
    "                        sub_convos1[\"{0} -> {1}\".format(labels[i], labels[j])] += 1\n",
    "    \n",
    "    #do for second trace\n",
    "    for i in range(len(labels)):\n",
    "        for j in range(len(labels)):\n",
    "\n",
    "            if i != j: #no repeats\n",
    "                candidate = until_N(trace2, [labels[i]], [labels[j]], 50)\n",
    "                sub_convos2[\"{0} -> {1}\".format(labels[i], labels[j])] = 0\n",
    "\n",
    "                for item in candidate:\n",
    "                    if item[3] > 10 and item [3] < l and item[2] < item[3]*c_cap:\n",
    "                        sub_convos2[\"{0} -> {1}\".format(labels[i], labels[j])] += 1\n",
    "    \n",
    "    #compare and give summary report\n",
    "    report = {}\n",
    "    report_total = 0\n",
    "    for key in list(sub_convos1.keys()):\n",
    "        report[key] = np.abs(sub_convos1[key]-sub_convos2[key])\n",
    "        report_total += report[key]\n",
    "    \n",
    "    return report, report_total"
   ]
  },
  {
   "cell_type": "code",
   "execution_count": 65,
   "metadata": {},
   "outputs": [
    {
     "data": {
      "text/plain": [
       "26"
      ]
     },
     "execution_count": 65,
     "metadata": {},
     "output_type": "execute_result"
    }
   ],
   "source": [
    "r, rcount = compare_sub_conversations(test1, test2, labels, 0.4, 30)\n",
    "rcount"
   ]
  },
  {
   "cell_type": "code",
   "execution_count": 66,
   "metadata": {},
   "outputs": [
    {
     "data": {
      "text/plain": [
       "57"
      ]
     },
     "execution_count": 66,
     "metadata": {},
     "output_type": "execute_result"
    }
   ],
   "source": [
    "r, rcount = compare_sub_conversations(test1, test3, labels, 0.4, 30)\n",
    "rcount"
   ]
  },
  {
   "cell_type": "code",
   "execution_count": 68,
   "metadata": {},
   "outputs": [
    {
     "data": {
      "text/plain": [
       "57"
      ]
     },
     "execution_count": 68,
     "metadata": {},
     "output_type": "execute_result"
    }
   ],
   "source": [
    "r, rcount = compare_sub_conversations(test2, test3, labels, 0.4, 30)\n",
    "rcount"
   ]
  },
  {
   "cell_type": "markdown",
   "metadata": {},
   "source": [
    "# NOTE: Perhaps it would be good here to take the functions and different resulting values using a graph, so we can see visually?"
   ]
  },
  {
   "cell_type": "code",
   "execution_count": 80,
   "metadata": {},
   "outputs": [],
   "source": [
    "import matplotlib.pyplot as plt\n",
    "\n",
    "#test between trace1 and trace3\n",
    "g1_x = [x for x in range(15,50,5)]\n",
    "g1_y = []\n",
    "for i in range(15, 50, 5):\n",
    "    sc = find_sub_conversations(test1, labels, 0.4, i)\n",
    "    val = 0\n",
    "    for key in list(sc.keys()):\n",
    "        val += sc[key]\n",
    "    g1_y.append(val)"
   ]
  },
  {
   "cell_type": "code",
   "execution_count": 81,
   "metadata": {},
   "outputs": [
    {
     "data": {
      "text/plain": [
       "Text(0.5, 1.0, 'Length L')"
      ]
     },
     "execution_count": 81,
     "metadata": {},
     "output_type": "execute_result"
    },
    {
     "data": {
      "image/png": "[encoded data removed]",
      "text/plain": [
       "<Figure size 432x288 with 1 Axes>"
      ]
     },
     "metadata": {
      "needs_background": "light"
     },
     "output_type": "display_data"
    }
   ],
   "source": [
    "plt.plot(g1_x, g1_y)\n",
    "plt.xlabel(\"max sequence length\")\n",
    "plt.ylabel(\"sub-convo lines found\")\n",
    "plt.title(\"Length L\")"
   ]
  },
  {
   "cell_type": "code",
   "execution_count": 82,
   "metadata": {},
   "outputs": [],
   "source": [
    "g1_x = [x*0.1 for x in range(1,6)]\n",
    "g1_y = []\n",
    "for i in range(1,6):\n",
    "    sc = find_sub_conversations(test1, labels, 0.1*i, 30)\n",
    "    val = 0\n",
    "    for key in list(sc.keys()):\n",
    "        val += sc[key]\n",
    "    g1_y.append(val)"
   ]
  },
  {
   "cell_type": "code",
   "execution_count": 83,
   "metadata": {},
   "outputs": [
    {
     "data": {
      "text/plain": [
       "Text(0.5, 1.0, 'c value')"
      ]
     },
     "execution_count": 83,
     "metadata": {},
     "output_type": "execute_result"
    },
    {
     "data": {
      "image/png": "[encoded data removed]",
      "text/plain": [
       "<Figure size 432x288 with 1 Axes>"
      ]
     },
     "metadata": {
      "needs_background": "light"
     },
     "output_type": "display_data"
    }
   ],
   "source": [
    "plt.plot(g1_x, g1_y)\n",
    "plt.xlabel(\"c < length*x\")\n",
    "plt.ylabel(\"sub-convo lines found\")\n",
    "plt.title(\"c value\")"
   ]
  },
  {
   "cell_type": "markdown",
   "metadata": {},
   "source": [
    "# NOTE: since we don't really have a basis for comparison, these linear relationships obviously make sense, we don't really compare any factor of \"quality\" for the lines found, just that we find more if we are less strict\n",
    "\n",
    "# NOTE: we can probably redo these graphs with a better sense of what the values are offering if we correlate to the similarity measure in some way (i.e: how do we compare quality of scores in a freq-based analysis?\n",
    "\n",
    "# NOTE: in our case, we want trace1 and trace2 to have more similarity, compared to trace3, which should be less similar"
   ]
  },
  {
   "cell_type": "code",
   "execution_count": null,
   "metadata": {},
   "outputs": [],
   "source": []
  }
 ],
 "metadata": {
  "kernelspec": {
   "display_name": "Python 3",
   "language": "python",
   "name": "python3"
  },
  "language_info": {
   "codemirror_mode": {
    "name": "ipython",
    "version": 3
   },
   "file_extension": ".py",
   "mimetype": "text/x-python",
   "name": "python",
   "nbconvert_exporter": "python",
   "pygments_lexer": "ipython3",
   "version": "3.6.9"
  }
 },
 "nbformat": 4,
 "nbformat_minor": 2
}
