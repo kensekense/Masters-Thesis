{
 "cells": [
  {
   "cell_type": "code",
   "execution_count": 5,
   "metadata": {},
   "outputs": [],
   "source": [
    "import numpy as np\n",
    "import pandas as pd\n",
    "import json"
   ]
  },
  {
   "cell_type": "code",
   "execution_count": 7,
   "metadata": {},
   "outputs": [],
   "source": [
    "#looking at the data\n",
    "with open('/mnt/e/Storage/masters-thesis-data/Taskmaster-master/Taskmaster-master/TM-1-2019/self-dialogs.json') as fp:\n",
    "    dat = json.load(fp)"
   ]
  },
  {
   "cell_type": "code",
   "execution_count": 11,
   "metadata": {},
   "outputs": [
    {
     "data": {
      "text/plain": [
       "7708"
      ]
     },
     "execution_count": 11,
     "metadata": {},
     "output_type": "execute_result"
    }
   ],
   "source": [
    "len(dat)"
   ]
  },
  {
   "cell_type": "code",
   "execution_count": 27,
   "metadata": {},
   "outputs": [
    {
     "data": {
      "text/plain": [
       "{'index': 0,\n",
       " 'speaker': 'USER',\n",
       " 'text': \"Hi, I'm looking to book a table for Korean fod.\"}"
      ]
     },
     "execution_count": 27,
     "metadata": {},
     "output_type": "execute_result"
    }
   ],
   "source": [
    "#data is separated by utterances, denotes the speaker and the text, index irrelevant\n",
    "dat[0]['utterances'][0]"
   ]
  },
  {
   "cell_type": "markdown",
   "metadata": {},
   "source": [
    "From this I can assume we can take the information, and store it with our own labels as long as long as we sync up"
   ]
  },
  {
   "cell_type": "code",
   "execution_count": 29,
   "metadata": {},
   "outputs": [
    {
     "name": "stdout",
     "output_type": "stream",
     "text": [
      "['USER', 'ASSISTANT', 'USER', 'ASSISTANT', 'USER', 'ASSISTANT', 'USER', 'ASSISTANT', 'USER', 'ASSISTANT', 'USER', 'ASSISTANT', 'USER', 'ASSISTANT', 'USER', 'ASSISTANT', 'USER', 'ASSISTANT', 'USER', 'ASSISTANT']\n",
      "[\"Hi, I'm looking to book a table for Korean fod.\", 'Ok, what area are you thinking about?', 'Somewhere in Southern NYC, maybe the East Village?', \"Ok, great.  There's Thursday Kitchen, it has great reviews.\", \"That's great. So I need a table for tonight at 7 pm for 8 people. We don't want to sit at the bar, but anywhere else is fine.\", \"They don't have any availability for 7 pm.\", 'What times are available?', '5 or 8.', \"Yikes, we can't do those times.\", 'Ok, do you have a second choice?', 'Let me check.', 'Ok.', 'Lets try Boka, are they free for 8 people at 7?', 'Yes.', \"Great, let's book that.\", 'Ok great, are there any other requests?', \"No, that's it, just book.\", 'Great, should I use your account you have open with them?', 'Yes please.', 'Great. You will get a confirmation to your phone soon.']\n",
      "20 20\n",
      "            p                                                  u\n",
      "0        USER    Hi, I'm looking to book a table for Korean fod.\n",
      "1   ASSISTANT              Ok, what area are you thinking about?\n",
      "2        USER  Somewhere in Southern NYC, maybe the East Vill...\n",
      "3   ASSISTANT  Ok, great.  There's Thursday Kitchen, it has g...\n",
      "4        USER  That's great. So I need a table for tonight at...\n",
      "5   ASSISTANT         They don't have any availability for 7 pm.\n",
      "6        USER                          What times are available?\n",
      "7   ASSISTANT                                            5 or 8.\n",
      "8        USER                    Yikes, we can't do those times.\n",
      "9   ASSISTANT                   Ok, do you have a second choice?\n",
      "10       USER                                      Let me check.\n",
      "11  ASSISTANT                                                Ok.\n",
      "12       USER    Lets try Boka, are they free for 8 people at 7?\n",
      "13  ASSISTANT                                               Yes.\n",
      "14       USER                            Great, let's book that.\n",
      "15  ASSISTANT            Ok great, are there any other requests?\n",
      "16       USER                          No, that's it, just book.\n",
      "17  ASSISTANT  Great, should I use your account you have open...\n",
      "18       USER                                        Yes please.\n",
      "19  ASSISTANT  Great. You will get a confirmation to your pho...\n"
     ]
    }
   ],
   "source": [
    "#for example, we take one conversation\n",
    "order = []\n",
    "speech = []\n",
    "for i in range (len(dat[0]['utterances'])):\n",
    "    order.append(dat[0]['utterances'][i]['speaker'])\n",
    "    speech.append(dat[0]['utterances'][i]['text'])\n",
    "\n",
    "print(order)\n",
    "print(speech)\n",
    "print(len(order),len(speech))\n",
    "\n",
    "df = pd.DataFrame({\"p\":order, \"u\":speech})\n",
    "print(df)"
   ]
  },
  {
   "cell_type": "code",
   "execution_count": 33,
   "metadata": {},
   "outputs": [
    {
     "name": "stdout",
     "output_type": "stream",
     "text": [
      "           p                                                  u\n",
      "0       USER    Hi, I'm looking to book a table for Korean fod.\n",
      "1  ASSISTANT              Ok, what area are you thinking about?\n",
      "2       USER  Somewhere in Southern NYC, maybe the East Vill...\n",
      "3  ASSISTANT  Ok, great.  There's Thursday Kitchen, it has g...\n",
      "4       USER  That's great. So I need a table for tonight at...\n"
     ]
    }
   ],
   "source": [
    "#now we can do the same for every conversation in the provided dataset\n",
    "p = []\n",
    "u = []\n",
    "for i in range(len(dat)):\n",
    "    for j in range(len(dat[i]['utterances'])):\n",
    "        p.append(dat[i]['utterances'][j]['speaker'])\n",
    "        u.append(dat[i]['utterances'][j]['text'])\n",
    "df = pd.DataFrame({\"p\":p,\"u\":u})\n",
    "print(df.head(5))"
   ]
  },
  {
   "cell_type": "code",
   "execution_count": 36,
   "metadata": {},
   "outputs": [],
   "source": [
    "df.to_csv('tm1_data.csv',index=False)"
   ]
  },
  {
   "cell_type": "markdown",
   "metadata": {},
   "source": [
    "Now that we exported to CSV, we can spend time to produce a labels column"
   ]
  },
  {
   "cell_type": "code",
   "execution_count": null,
   "metadata": {},
   "outputs": [],
   "source": []
  }
 ],
 "metadata": {
  "kernelspec": {
   "display_name": "Python 3",
   "language": "python",
   "name": "python3"
  },
  "language_info": {
   "codemirror_mode": {
    "name": "ipython",
    "version": 3
   },
   "file_extension": ".py",
   "mimetype": "text/x-python",
   "name": "python",
   "nbconvert_exporter": "python",
   "pygments_lexer": "ipython3",
   "version": "3.6.9"
  }
 },
 "nbformat": 4,
 "nbformat_minor": 2
}
