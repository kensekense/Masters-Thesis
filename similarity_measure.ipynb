{
 "cells": [
  {
   "cell_type": "code",
   "execution_count": 1,
   "metadata": {},
   "outputs": [],
   "source": [
    "import numpy as np\n",
    "import pandas as pd"
   ]
  },
  {
   "cell_type": "markdown",
   "metadata": {},
   "source": [
    "Edit-distance operations are defined as \n",
    "* (a,a) denotes a match of symbols at the given position\n",
    "* (a,-) denotes deletion of symbol 'a' at some position\n",
    "* (-,b) denotes insertion of symbol 'b' at some position\n",
    "* (a,b) denotes replacement of 'a' with 'b' at some position, and a != b\n",
    "We assign a separate cost for each of these operations according to our needs"
   ]
  },
  {
   "cell_type": "code",
   "execution_count": 2,
   "metadata": {},
   "outputs": [],
   "source": [
    "#for simplicity and completeness sake, we define a simple levenshtein distance function first\n",
    "\n",
    "def basic_distance (trace1, trace2):\n",
    "\n",
    "    M = len(trace1)\n",
    "    N = len(trace2)\n",
    "    edit_table = np.zeros((M,N)) #establish table\n",
    "\n",
    "    #fill table\n",
    "    for i in range(M):\n",
    "        for j in range(N):\n",
    "\n",
    "            if i == 0:\n",
    "                edit_table[i][j] = j\n",
    "\n",
    "            elif j ==0:\n",
    "                edit_table[i][j] = i\n",
    "\n",
    "            elif trace1[i-1] == trace2[j-1]:\n",
    "                edit_table[i][j] = edit_table[i-1][j-1]\n",
    "\n",
    "            else:\n",
    "                edit_table[i][j] = 1 + min(edit_table[i-1][j], edit_table[i][j-1], edit_table[i-1][j-1]) #scoring done here\n",
    "\n",
    "    return edit_table[i][j]"
   ]
  },
  {
   "cell_type": "code",
   "execution_count": 3,
   "metadata": {},
   "outputs": [],
   "source": [
    "#sample test\n",
    "dat1 = pd.read_csv('./graham.norton.s22.e08_data.csv')\n",
    "dat2 = pd.read_csv('./graham.norton.s22.e12_data.csv')\n",
    "dat3 = pd.read_csv('./blackpink_data.csv')\n",
    "test1 = list(dat1.L)\n",
    "test2 = list(dat2.L)\n",
    "test3 = list(dat3.L)"
   ]
  },
  {
   "cell_type": "code",
   "execution_count": 4,
   "metadata": {},
   "outputs": [
    {
     "data": {
      "text/plain": [
       "665.0"
      ]
     },
     "execution_count": 4,
     "metadata": {},
     "output_type": "execute_result"
    }
   ],
   "source": [
    "basic_distance(test1,test2)"
   ]
  },
  {
   "cell_type": "code",
   "execution_count": 5,
   "metadata": {},
   "outputs": [
    {
     "data": {
      "text/plain": [
       "3.0"
      ]
     },
     "execution_count": 5,
     "metadata": {},
     "output_type": "execute_result"
    }
   ],
   "source": [
    "a = [\"a\",\"a\",\"a\",\"a\",\"a\"]\n",
    "c = [\"a\",\"a\",\"a\",\"a\",\"a\"]\n",
    "b = [\"b\",\"b\",\"b\",\"b\",\"b\"]\n",
    "d = [\"a\",\"a\",\"a\",\"a\",\"a\",\"a\",\"a\",\"a\"]\n",
    "basic_distance(a,d)"
   ]
  },
  {
   "cell_type": "code",
   "execution_count": 6,
   "metadata": {},
   "outputs": [
    {
     "data": {
      "text/plain": [
       "6.0"
      ]
     },
     "execution_count": 6,
     "metadata": {},
     "output_type": "execute_result"
    }
   ],
   "source": [
    "a = [\"a\",\"a\",\"a\",\"a\",\"b\",\"a\",\"c\",\"c\"]\n",
    "b = [\"b\",\"b\",\"b\",\"b\",\"a\",\"b\",\"c\",\"c\",\"c\",\"c\"]\n",
    "basic_distance(a,b)"
   ]
  },
  {
   "cell_type": "code",
   "execution_count": 7,
   "metadata": {},
   "outputs": [
    {
     "data": {
      "text/plain": [
       "984.0"
      ]
     },
     "execution_count": 7,
     "metadata": {},
     "output_type": "execute_result"
    }
   ],
   "source": [
    "basic_distance(test1, test3)"
   ]
  },
  {
   "cell_type": "code",
   "execution_count": 8,
   "metadata": {},
   "outputs": [
    {
     "data": {
      "text/plain": [
       "665"
      ]
     },
     "execution_count": 8,
     "metadata": {},
     "output_type": "execute_result"
    }
   ],
   "source": [
    "#baseline\n",
    "import nltk\n",
    "nltk.edit_distance(test1,test2)"
   ]
  },
  {
   "cell_type": "code",
   "execution_count": 9,
   "metadata": {},
   "outputs": [
    {
     "data": {
      "text/plain": [
       "2"
      ]
     },
     "execution_count": 9,
     "metadata": {},
     "output_type": "execute_result"
    }
   ],
   "source": [
    "t1 = [\"a\",\"b\"]\n",
    "t2 = [\"a\",\"b\",\"c\",\"d\"]\n",
    "nltk.edit_distance(t1,t2)"
   ]
  },
  {
   "cell_type": "markdown",
   "metadata": {},
   "source": [
    "# Now we have to alter the function to accomodate for different scoring metrics according to the paper\n",
    "* substitution of uncorrelated activities should be discouraged\n",
    "* substitution of contrasting activities should be penalized\n",
    "* insertion of activities out of context should be discouraged\n",
    "* substitution of correlated activities should be encouraged in proportion to the degree of similarity"
   ]
  },
  {
   "cell_type": "code",
   "execution_count": 10,
   "metadata": {},
   "outputs": [],
   "source": [
    "#STEP 1: Define the symbols in the list of traces\n",
    "def define_symbols (traces):\n",
    "    assert type(traces) == list\n",
    "    symbols = []\n",
    "    for item in traces:\n",
    "        symbols.append(set(item))\n",
    "    x = symbols[0]\n",
    "    for i in range(len(symbols)):\n",
    "        x = x.union(symbols[i])\n",
    "    \n",
    "    return list(x)"
   ]
  },
  {
   "cell_type": "code",
   "execution_count": 11,
   "metadata": {},
   "outputs": [
    {
     "name": "stdout",
     "output_type": "stream",
     "text": [
      "['f', 'a', 'b', 'q', 'e', 'g', 'd', 'c']\n",
      "['a', 'b', 'd', 'c']\n",
      "['give.statement', 'respond.deny', 'use.social.convention', 'recall', 'open.question', 'deflection', 'relax.atmosphere', 'closed.question', 'misc', 'respond.agree', 'give.opinion']\n"
     ]
    }
   ],
   "source": [
    "# A != B\n",
    "a = [\"a\",\"b\",\"c\",\"d\",\"e\"]\n",
    "b = [\"a\",\"g\",\"q\",\"q\",\"e\",\"f\"]\n",
    "c = [a, b]\n",
    "print(define_symbols(c))\n",
    "\n",
    "# A == B\n",
    "a = [\"a\", \"b\", \"c\", \"d\"]\n",
    "b = [\"a\", \"a\", \"c\", \"d\", \"b\", \"b\"]\n",
    "c = [a,b]\n",
    "print(define_symbols(c))\n",
    "\n",
    "# on the dataset\n",
    "c = [test1,test2]\n",
    "print(define_symbols(c))"
   ]
  },
  {
   "cell_type": "code",
   "execution_count": 12,
   "metadata": {},
   "outputs": [],
   "source": [
    "#STEP 2: Define the set of all 3-grams in the logs and their frequencies\n",
    "def three_grams (traces):\n",
    "    assert type(traces) == list\n",
    "    g3 = []\n",
    "    g3_freq = {}\n",
    "    for trace in traces:\n",
    "        for i in range(len(trace)-2):\n",
    "            g3.append(\", \".join(list(trace[i:i+3])))\n",
    "            try:\n",
    "                g3_freq[\", \".join(list(trace[i:i+3]))] += 1\n",
    "            except:\n",
    "                g3_freq[\", \".join(list(trace[i:i+3]))] = 1\n",
    "    return list(set(g3)), g3_freq"
   ]
  },
  {
   "cell_type": "code",
   "execution_count": 13,
   "metadata": {},
   "outputs": [
    {
     "name": "stdout",
     "output_type": "stream",
     "text": [
      "(['c, b, a', 'j, i, h', 'i, j, k', 'b, c, d', 'g, f, e', 'e, f, g', 'a, b, c', 'c, d, e', 'k, j, i', 'h, i, j', 'g, h, i', 'i, h, g', 'd, e, f', 'h, g, f', 'f, e, d', 'e, d, c', 'd, c, b', 'f, g, h'], {'a, b, c': 1, 'b, c, d': 1, 'c, d, e': 1, 'd, e, f': 1, 'e, f, g': 1, 'f, g, h': 1, 'g, h, i': 1, 'h, i, j': 1, 'i, j, k': 1, 'k, j, i': 1, 'j, i, h': 1, 'i, h, g': 1, 'h, g, f': 1, 'g, f, e': 1, 'f, e, d': 1, 'e, d, c': 1, 'd, c, b': 1, 'c, b, a': 1})\n",
      "(['i, j, k', 'b, c, d', 'e, f, g', 'a, b, c', 'c, d, e', 'h, i, j', 'g, h, i', 'd, e, f', 'f, g, h'], {'a, b, c': 2, 'b, c, d': 2, 'c, d, e': 2, 'd, e, f': 2, 'e, f, g': 2, 'f, g, h': 2, 'g, h, i': 2, 'h, i, j': 2, 'i, j, k': 2})\n"
     ]
    }
   ],
   "source": [
    "#A = abcdefghijk, B = kjihgfedcba\n",
    "a = [\"a\",\"b\",\"c\",\"d\",\"e\",\"f\",\"g\",\"h\",\"i\",\"j\",\"k\"]\n",
    "b = [\"k\",\"j\",\"i\",\"h\",\"g\",\"f\",\"e\",\"d\",\"c\",\"b\",\"a\"]\n",
    "c = [a,b]\n",
    "print(three_grams(c))\n",
    "\n",
    "#A = abcdefghijk, B = abcdefghijk\n",
    "a = [\"a\",\"b\",\"c\",\"d\",\"e\",\"f\",\"g\",\"h\",\"i\",\"j\",\"k\"]\n",
    "b = [\"a\",\"b\",\"c\",\"d\",\"e\",\"f\",\"g\",\"h\",\"i\",\"j\",\"k\"]\n",
    "c = [a,b]\n",
    "print(three_grams(c))"
   ]
  },
  {
   "cell_type": "code",
   "execution_count": 14,
   "metadata": {},
   "outputs": [],
   "source": [
    "#STEP 3: Define the context for symbol a\n",
    "def define_context(grams):\n",
    "    \n",
    "    assert type(grams) == list\n",
    "    \n",
    "    context = {}\n",
    "    for gram in grams:\n",
    "        x,a,y = gram.split(\", \")\n",
    "        try:\n",
    "            context[a].append(\"{0}, {1}\".format(x,y))\n",
    "        except:\n",
    "            context[a] = []\n",
    "            context[a].append(\"{0}, {1}\".format(x,y))\n",
    "            \n",
    "    #clear dups\n",
    "    for k in list(context.keys()):\n",
    "        context[k] = list(set(context[k]))\n",
    "    \n",
    "    return context"
   ]
  },
  {
   "cell_type": "code",
   "execution_count": 15,
   "metadata": {},
   "outputs": [
    {
     "name": "stdout",
     "output_type": "stream",
     "text": [
      "{'b': ['b, b'], 'a': ['a, a']}\n",
      "{'b': ['b, c', 'b, b', 'a, c'], 'e': ['c, f'], 'c': ['a, e', 'b, c', 'c, a'], 'a': ['a, a', 'a, b', 'f, a', 'a, c'], 'f': ['e, a']}\n"
     ]
    }
   ],
   "source": [
    "#test context, should have keys a and b, where each has aa and bb respectively\n",
    "a = [\"a\",\"a\",\"a\",\"a\",\"a\",\"a\",\"a\"]\n",
    "b = [\"b\",\"b\",\"b\",\"b\",\"b\"]\n",
    "c = [a,b]\n",
    "grams, g3_freq = three_grams(c)\n",
    "print(define_context(grams))\n",
    "\n",
    "#test context\n",
    "a = [\"a\",\"a\",\"a\",\"a\",\"a\",\"a\",\"a\",\"c\",\"e\",\"f\",\"a\",\"a\",\"b\",\"c\"]\n",
    "b = [\"b\",\"b\",\"b\",\"b\",\"b\",\"c\",\"c\",\"a\"]\n",
    "c = [a,b]\n",
    "grams, g3_freq = three_grams(c)\n",
    "print(define_context(grams))"
   ]
  },
  {
   "cell_type": "code",
   "execution_count": 16,
   "metadata": {},
   "outputs": [],
   "source": [
    "#STEP 4: define pairs of context\n",
    "def context_pairs (context):\n",
    "    \n",
    "    assert type(context) == dict\n",
    "    \n",
    "    context_pairs = {}\n",
    "    for a in list(context.keys()):\n",
    "        for b in list(context.keys()):\n",
    "            if a != b:\n",
    "                context_pairs[\"{0}, {1}\".format(a, b)] = list(set(context[a]).intersection(set(context[b])))\n",
    "    \n",
    "    return context_pairs"
   ]
  },
  {
   "cell_type": "code",
   "execution_count": 17,
   "metadata": {},
   "outputs": [
    {
     "name": "stdout",
     "output_type": "stream",
     "text": [
      "{'b, a': [], 'a, b': []}\n",
      "{'b, a': ['b, b', 'a, a'], 'a, b': ['b, b', 'a, a']}\n"
     ]
    }
   ],
   "source": [
    "#test context pairs, should be empty\n",
    "a = [\"a\",\"a\",\"a\",\"a\",\"a\",\"a\",\"a\"]\n",
    "b = [\"b\",\"b\",\"b\",\"b\",\"b\"]\n",
    "c = [a,b]\n",
    "grams, g3_freq = three_grams(c)\n",
    "context = define_context(grams)\n",
    "print(context_pairs(context))\n",
    "\n",
    "#test context pairs, should be aa and bb\n",
    "a = [\"a\",\"a\",\"a\",\"a\",\"b\",\"a\"]\n",
    "b = [\"b\",\"b\",\"b\",\"b\",\"a\",\"b\"]\n",
    "c = [a,b]\n",
    "grams, g3_freq = three_grams(c)\n",
    "context = define_context(grams)\n",
    "print(context_pairs(context))"
   ]
  },
  {
   "cell_type": "code",
   "execution_count": 18,
   "metadata": {},
   "outputs": [],
   "source": [
    "#STEP 5: define co-occurrence combinations\n",
    "def define_cooccurrence(symbols, context_pairs, gram_freq):\n",
    "    \n",
    "    assert type(context_pairs) == dict\n",
    "    assert type(gram_freq) == dict\n",
    "    assert type(symbols) == list\n",
    "    \n",
    "    co_occur = {}\n",
    "    for k in list(context_pairs.keys()):\n",
    "        for item in context_pairs[k]:\n",
    "            for a in symbols:\n",
    "                for b in symbols:\n",
    "                    x,y = item.split(\", \")[0], item.split(\", \")[1]\n",
    "                    if a == b:\n",
    "                        try:\n",
    "                            n = gram_freq[\"{0}, {1}, {2}\".format(x,a,y)]\n",
    "                            co_occur[\"{0}, {1}({2}, {3})\".format(x,y,a,b)] = (n*(n-1))/2\n",
    "                        except:\n",
    "                            co_occur[\"{0}, {1}({2}, {3})\".format(x,y,a,b)] = 0.0\n",
    "                        \n",
    "                    elif a != b:\n",
    "                        try:\n",
    "                            n_i = gram_freq[\"{0}, {1}, {2}\".format(x,a,y)]\n",
    "                            n_j = gram_freq[\"{0}, {1}, {2}\".format(x,b,y)]\n",
    "                            co_occur[\"{0}, {1}({2}, {3})\".format(x,y,a,b)] = n_i*n_j\n",
    "                        except:\n",
    "                            co_occur[\"{0}, {1}({2}, {3})\".format(x,y,a,b)] = 0.0\n",
    "    \n",
    "    return co_occur\n",
    "            "
   ]
  },
  {
   "cell_type": "code",
   "execution_count": 19,
   "metadata": {},
   "outputs": [
    {
     "name": "stdout",
     "output_type": "stream",
     "text": [
      "['b, a, c', 'b, b, b', 'a, b, a', 'b, b, a', 'a, b, c', 'a, a, a', 'b, a, b', 'a, a, b']\n",
      "{'a, a, a': 2, 'a, a, b': 1, 'a, b, a': 1, 'b, a, c': 1, 'b, b, b': 2, 'b, b, a': 1, 'b, a, b': 1, 'a, b, c': 1}\n",
      "{'a': ['b, c', 'a, b', 'b, b', 'a, a'], 'b': ['a, c', 'b, a', 'b, b', 'a, a']}\n",
      "{'a, b': ['b, b', 'a, a'], 'b, a': ['b, b', 'a, a']}\n",
      "{'b, b(c, c)': 0.0, 'b, b(c, a)': 0.0, 'b, b(c, b)': 0.0, 'b, b(a, c)': 0.0, 'b, b(a, a)': 0.0, 'b, b(a, b)': 2, 'b, b(b, c)': 0.0, 'b, b(b, a)': 2, 'b, b(b, b)': 1.0, 'a, a(c, c)': 0.0, 'a, a(c, a)': 0.0, 'a, a(c, b)': 0.0, 'a, a(a, c)': 0.0, 'a, a(a, a)': 1.0, 'a, a(a, b)': 2, 'a, a(b, c)': 0.0, 'a, a(b, a)': 2, 'a, a(b, b)': 0.0}\n"
     ]
    }
   ],
   "source": [
    "#test\n",
    "a = [\"a\",\"a\",\"a\",\"a\",\"b\",\"a\",\"c\"]\n",
    "b = [\"b\",\"b\",\"b\",\"b\",\"a\",\"b\",\"c\"]\n",
    "c = [a,b]\n",
    "grams, g3_freq = three_grams(c)\n",
    "print(grams)\n",
    "print(g3_freq)\n",
    "context = define_context(grams)\n",
    "print(context)\n",
    "con_pairs = context_pairs(context)\n",
    "print(con_pairs)\n",
    "print(define_cooccurrence(define_symbols(c),con_pairs,g3_freq))"
   ]
  },
  {
   "cell_type": "code",
   "execution_count": 20,
   "metadata": {},
   "outputs": [],
   "source": [
    "#STEP 6: Define the count of co-occurrences for symbols a,b for all contexts\n",
    "def co_occur_combos(symbols, con_pairs, co_occurs):\n",
    "    assert type(symbols) == list\n",
    "    assert type(con_pairs) == dict\n",
    "    assert type(co_occurs) == dict\n",
    "    \n",
    "    co_occur_combos = {}\n",
    "    for a in symbols:\n",
    "        for b in symbols:\n",
    "            total = 0.0\n",
    "            for k in list(con_pairs.keys()):\n",
    "                for item in con_pairs[k]:\n",
    "                    total += co_occurs[\"{0}({1}, {2})\".format(item,a,b)]\n",
    "            co_occur_combos[\"{0}, {1}\".format(a,b)] = total\n",
    "    \n",
    "    return co_occur_combos\n"
   ]
  },
  {
   "cell_type": "code",
   "execution_count": 21,
   "metadata": {},
   "outputs": [
    {
     "name": "stdout",
     "output_type": "stream",
     "text": [
      "{'a, a, a': 4, 'a, a, b': 7, 'a, b, a': 6, 'b, a, a': 5, 'a, b, b': 1}\n",
      "{'b': ['a, b', 'a, a'], 'a': ['b, a', 'a, b', 'a, a']}\n",
      "{'b, a': ['a, b', 'a, a'], 'a, b': ['a, b', 'a, a']}\n",
      "{'a, b(a, a)': 21.0, 'a, b(a, b)': 7, 'a, b(b, a)': 7, 'a, b(b, b)': 0.0, 'a, a(a, a)': 6.0, 'a, a(a, b)': 24, 'a, a(b, a)': 24, 'a, a(b, b)': 15.0}\n",
      "{'a, a': 54.0, 'a, b': 62.0, 'b, a': 62.0, 'b, b': 30.0}\n"
     ]
    }
   ],
   "source": [
    "#test\n",
    "a = [\"a\",\"a\",\"a\",\"a\",\"b\",\"a\",\"a\",\"b\",\"b\"]\n",
    "b = [\"a\",\"a\",\"a\",\"a\",\"b\",\"a\",\"a\",\"b\",\"a\",\"a\",\"b\",\"a\",\"a\",\"b\",\"a\",\"a\",\"b\",\"a\"]\n",
    "c = [a,b]\n",
    "grams, g3_freq = three_grams(c)\n",
    "print(g3_freq)\n",
    "context = define_context(grams)\n",
    "print(context)\n",
    "con_pairs = context_pairs(context)\n",
    "print(con_pairs)\n",
    "co_occurs = define_cooccurrence(define_symbols(c),con_pairs,g3_freq)\n",
    "print(co_occurs)\n",
    "print(co_occur_combos(define_symbols(c),con_pairs,co_occurs))"
   ]
  },
  {
   "cell_type": "code",
   "execution_count": 22,
   "metadata": {},
   "outputs": [],
   "source": [
    "#STEP 7: Define norm on the count of co-occur combos\n",
    "def define_norm (co_combos):\n",
    "    assert type(co_combos) == dict\n",
    "    norm = 0.0\n",
    "    for k in list(co_combos.keys()):\n",
    "        norm += co_combos[k]\n",
    "    \n",
    "    return norm"
   ]
  },
  {
   "cell_type": "code",
   "execution_count": 23,
   "metadata": {},
   "outputs": [
    {
     "name": "stdout",
     "output_type": "stream",
     "text": [
      "208.0\n"
     ]
    }
   ],
   "source": [
    "#test\n",
    "a = [\"a\",\"a\",\"a\",\"a\",\"b\",\"a\",\"a\",\"b\",\"b\"]\n",
    "b = [\"a\",\"a\",\"a\",\"a\",\"b\",\"a\",\"a\",\"b\",\"a\",\"a\",\"b\",\"a\",\"a\",\"b\",\"a\",\"a\",\"b\",\"a\"]\n",
    "c = [a,b]\n",
    "grams, g3_freq = three_grams(c)\n",
    "context = define_context(grams)\n",
    "con_pairs = context_pairs(context)\n",
    "co_occurs = define_cooccurrence(define_symbols(c),con_pairs,g3_freq)\n",
    "print(define_norm(co_occur_combos(define_symbols(c),con_pairs,co_occurs)))"
   ]
  },
  {
   "cell_type": "code",
   "execution_count": 24,
   "metadata": {},
   "outputs": [],
   "source": [
    "#STEP 8: Define matrix M over A x A\n",
    "def define_matrix (symbols, co_combos, norm):\n",
    "    assert type(symbols) == list\n",
    "    assert type(co_combos) == dict\n",
    "    assert type(norm) == float\n",
    "    \n",
    "    mat_M = {}\n",
    "    for a in symbols:\n",
    "        for b in symbols:\n",
    "            mat_M[\"{0}, {1}\".format(a,b)] = co_combos[\"{0}, {1}\".format(a,b)]/norm\n",
    "    \n",
    "    return mat_M"
   ]
  },
  {
   "cell_type": "code",
   "execution_count": 25,
   "metadata": {},
   "outputs": [
    {
     "name": "stdout",
     "output_type": "stream",
     "text": [
      "{'a, a': 0.25961538461538464, 'a, b': 0.2980769230769231, 'b, a': 0.2980769230769231, 'b, b': 0.14423076923076922}\n"
     ]
    }
   ],
   "source": [
    "a = [\"a\",\"a\",\"a\",\"a\",\"b\",\"a\",\"a\",\"b\",\"b\"]\n",
    "b = [\"a\",\"a\",\"a\",\"a\",\"b\",\"a\",\"a\",\"b\",\"a\",\"a\",\"b\",\"a\",\"a\",\"b\",\"a\",\"a\",\"b\",\"a\"]\n",
    "c = [a,b]\n",
    "grams, g3_freq = three_grams(c)\n",
    "context = define_context(grams)\n",
    "con_pairs = context_pairs(context)\n",
    "co_occurs = define_cooccurrence(define_symbols(c),con_pairs,g3_freq)\n",
    "norm = define_norm(co_occur_combos(define_symbols(c),con_pairs,co_occurs))\n",
    "co_combos = co_occur_combos(define_symbols(c), con_pairs, co_occurs)\n",
    "print(define_matrix(define_symbols(c), co_combos, norm))"
   ]
  },
  {
   "cell_type": "code",
   "execution_count": 26,
   "metadata": {},
   "outputs": [],
   "source": [
    "def prob_occur (symbols, mat_M):\n",
    "    assert type(symbols) == list\n",
    "    assert type(mat_M) == dict\n",
    "    \n",
    "    p = {}\n",
    "    for a in symbols:\n",
    "        total = 0\n",
    "        for b in symbols:\n",
    "            if a != b:\n",
    "                total += mat_M[\"{0}, {1}\".format(a,b)]\n",
    "        total += mat_M[\"{0}, {1}\".format(a,a)]\n",
    "        p[\"{0}\".format(a)] = total\n",
    "    \n",
    "    return p\n",
    "                "
   ]
  },
  {
   "cell_type": "code",
   "execution_count": 27,
   "metadata": {},
   "outputs": [
    {
     "name": "stdout",
     "output_type": "stream",
     "text": [
      "{'a': 0.5576923076923077, 'b': 0.4423076923076923}\n"
     ]
    }
   ],
   "source": [
    "a = [\"a\",\"a\",\"a\",\"a\",\"b\",\"a\",\"a\",\"b\",\"b\"]\n",
    "b = [\"a\",\"a\",\"a\",\"a\",\"b\",\"a\",\"a\",\"b\",\"a\",\"a\",\"b\",\"a\",\"a\",\"b\",\"a\",\"a\",\"b\",\"a\"]\n",
    "c = [a,b]\n",
    "grams, g3_freq = three_grams(c)\n",
    "context = define_context(grams)\n",
    "con_pairs = context_pairs(context)\n",
    "co_occurs = define_cooccurrence(define_symbols(c),con_pairs,g3_freq)\n",
    "norm = define_norm(co_occur_combos(define_symbols(c),con_pairs,co_occurs))\n",
    "co_combos = co_occur_combos(define_symbols(c), con_pairs, co_occurs)\n",
    "matM = define_matrix(define_symbols(c), co_combos, norm)\n",
    "print(prob_occur(define_symbols(c), matM))"
   ]
  },
  {
   "cell_type": "code",
   "execution_count": 28,
   "metadata": {},
   "outputs": [],
   "source": [
    "def exp_val (symbols, prob):\n",
    "    assert type(symbols) == list\n",
    "    assert type(prob) == dict\n",
    "    \n",
    "    e_val = {}\n",
    "    for a in symbols:\n",
    "        for b in symbols:\n",
    "            if a == b:\n",
    "                e_val[\"{0}, {1}\".format(a,b)] = prob[\"{0}\".format(a)]**2\n",
    "            else:\n",
    "                e_val[\"{0}, {1}\".format(a,b)] = 2*prob[\"{0}\".format(a)]*prob[\"{0}\".format(b)]\n",
    "    \n",
    "    return e_val"
   ]
  },
  {
   "cell_type": "code",
   "execution_count": 29,
   "metadata": {},
   "outputs": [
    {
     "name": "stdout",
     "output_type": "stream",
     "text": [
      "{'a, a': 0.3110207100591716, 'a, b': 0.4933431952662722, 'b, a': 0.4933431952662722, 'b, b': 0.1956360946745562}\n"
     ]
    }
   ],
   "source": [
    "a = [\"a\",\"a\",\"a\",\"a\",\"b\",\"a\",\"a\",\"b\",\"b\"]\n",
    "b = [\"a\",\"a\",\"a\",\"a\",\"b\",\"a\",\"a\",\"b\",\"a\",\"a\",\"b\",\"a\",\"a\",\"b\",\"a\",\"a\",\"b\",\"a\"]\n",
    "c = [a,b]\n",
    "grams, g3_freq = three_grams(c)\n",
    "context = define_context(grams)\n",
    "con_pairs = context_pairs(context)\n",
    "co_occurs = define_cooccurrence(define_symbols(c),con_pairs,g3_freq)\n",
    "norm = define_norm(co_occur_combos(define_symbols(c),con_pairs,co_occurs))\n",
    "co_combos = co_occur_combos(define_symbols(c), con_pairs, co_occurs)\n",
    "matM = define_matrix(define_symbols(c), co_combos, norm)\n",
    "probs = prob_occur(define_symbols(c), matM)\n",
    "print(exp_val(define_symbols(c), probs))"
   ]
  },
  {
   "cell_type": "code",
   "execution_count": 30,
   "metadata": {},
   "outputs": [],
   "source": [
    "def sub_scores (traces):\n",
    "    assert type(traces) == list\n",
    "    \n",
    "    symbols = define_symbols(traces)\n",
    "    three_gs, three_gs_freq = three_grams(traces)\n",
    "    cons = define_context(three_gs)\n",
    "    con_pairs = context_pairs(cons)\n",
    "    co_occurs = define_cooccurrence(symbols, con_pairs, three_gs_freq)\n",
    "    co_combos = co_occur_combos(symbols, con_pairs, co_occurs)\n",
    "    norm = define_norm(co_combos)\n",
    "    matM = define_matrix(symbols, co_combos, norm)\n",
    "    probs = prob_occur(symbols, matM)\n",
    "    e_val = exp_val(symbols, probs)\n",
    "    \n",
    "    sub_costs = {}\n",
    "    for a in symbols:\n",
    "        for b in symbols:\n",
    "            if a!=b:\n",
    "                try:\n",
    "                    sub_costs[\"{0}, {1}\".format(a,b)] = np.log2(matM[\"{0}, {1}\".format(a,b)]/e_val[\"{0}, {1}\".format(a,b)])\n",
    "                except:\n",
    "                    sub_costs[\"{0}, {1}\".format(a,b)] = -np.inf\n",
    "    \n",
    "    return sub_costs\n",
    "    "
   ]
  },
  {
   "cell_type": "code",
   "execution_count": 31,
   "metadata": {
    "scrolled": false
   },
   "outputs": [
    {
     "name": "stderr",
     "output_type": "stream",
     "text": [
      "/home/kense/.local/lib/python3.6/site-packages/ipykernel_launcher.py:20: RuntimeWarning: divide by zero encountered in log2\n"
     ]
    },
    {
     "data": {
      "text/plain": [
       "{'give.statement, respond.deny': -1.2189510662537508,\n",
       " 'give.statement, use.social.convention': -0.7991671206359782,\n",
       " 'give.statement, recall': -3.279259072099281,\n",
       " 'give.statement, open.question': -1.1368280394978416,\n",
       " 'give.statement, deflection': -1.342408219630197,\n",
       " 'give.statement, relax.atmosphere': -0.7135337660807433,\n",
       " 'give.statement, closed.question': -0.9102743960234426,\n",
       " 'give.statement, misc': -1.8514323278005085,\n",
       " 'give.statement, respond.agree': -0.7666064185194705,\n",
       " 'give.statement, give.opinion': -1.279163087998234,\n",
       " 'respond.deny, give.statement': -1.2189510662537508,\n",
       " 'respond.deny, use.social.convention': -2.536784950339194,\n",
       " 'respond.deny, recall': -3.546590963390785,\n",
       " 'respond.deny, open.question': -0.21821161911223122,\n",
       " 'respond.deny, deflection': 1.0815261709710615,\n",
       " 'respond.deny, relax.atmosphere': -1.1657398104870977,\n",
       " 'respond.deny, closed.question': -0.3093607060100491,\n",
       " 'respond.deny, misc': -inf,\n",
       " 'respond.deny, respond.agree': 0.8257198911647854,\n",
       " 'respond.deny, give.opinion': -2.6067217161181846,\n",
       " 'use.social.convention, give.statement': -0.7991671206359782,\n",
       " 'use.social.convention, respond.deny': -2.536784950339194,\n",
       " 'use.social.convention, recall': -2.587507148618944,\n",
       " 'use.social.convention, open.question': -1.8832259329741112,\n",
       " 'use.social.convention, deflection': -1.983418196948493,\n",
       " 'use.social.convention, relax.atmosphere': -0.5801000122102575,\n",
       " 'use.social.convention, closed.question': -2.0770046956079087,\n",
       " 'use.social.convention, misc': -0.6128150189557926,\n",
       " 'use.social.convention, respond.agree': -1.6178271710253485,\n",
       " 'use.social.convention, give.opinion': -1.7957455239797055,\n",
       " 'recall, give.statement': -3.279259072099281,\n",
       " 'recall, respond.deny': -3.546590963390785,\n",
       " 'recall, use.social.convention': -2.587507148618944,\n",
       " 'recall, open.question': -2.95883905697521,\n",
       " 'recall, deflection': -4.051505570224791,\n",
       " 'recall, relax.atmosphere': -3.4896593402689984,\n",
       " 'recall, closed.question': -2.146553300819263,\n",
       " 'recall, misc': -2.0127872511010927,\n",
       " 'recall, respond.agree': -2.6523347980641825,\n",
       " 'recall, give.opinion': -1.9059187619861726,\n",
       " 'open.question, give.statement': -1.1368280394978416,\n",
       " 'open.question, respond.deny': -0.21821161911223122,\n",
       " 'open.question, use.social.convention': -1.8832259329741112,\n",
       " 'open.question, recall': -2.95883905697521,\n",
       " 'open.question, deflection': -1.5773923223375963,\n",
       " 'open.question, relax.atmosphere': -0.8351253810234427,\n",
       " 'open.question, closed.question': 0.6894683798054839,\n",
       " 'open.question, misc': -2.2704029490139566,\n",
       " 'open.question, respond.agree': -0.6968217878431284,\n",
       " 'open.question, give.opinion': -1.2415464242928402,\n",
       " 'deflection, give.statement': -1.342408219630197,\n",
       " 'deflection, respond.deny': 1.0815261709710615,\n",
       " 'deflection, use.social.convention': -1.983418196948493,\n",
       " 'deflection, recall': -4.051505570224791,\n",
       " 'deflection, open.question': -1.5773923223375963,\n",
       " 'deflection, relax.atmosphere': -1.5684734243568101,\n",
       " 'deflection, closed.question': -1.8509865045582965,\n",
       " 'deflection, misc': -0.9757388921545358,\n",
       " 'deflection, respond.agree': 0.2413794743684496,\n",
       " 'deflection, give.opinion': -0.6637245415281023,\n",
       " 'relax.atmosphere, give.statement': -0.7135337660807433,\n",
       " 'relax.atmosphere, respond.deny': -1.1657398104870977,\n",
       " 'relax.atmosphere, use.social.convention': -0.5801000122102575,\n",
       " 'relax.atmosphere, recall': -3.4896593402689984,\n",
       " 'relax.atmosphere, open.question': -0.8351253810234427,\n",
       " 'relax.atmosphere, deflection': -1.5684734243568101,\n",
       " 'relax.atmosphere, closed.question': -0.5238135325026745,\n",
       " 'relax.atmosphere, misc': -0.9450103862379167,\n",
       " 'relax.atmosphere, respond.agree': -1.1188638621044529,\n",
       " 'relax.atmosphere, give.opinion': -1.657005956053889,\n",
       " 'closed.question, give.statement': -0.9102743960234426,\n",
       " 'closed.question, respond.deny': -0.3093607060100491,\n",
       " 'closed.question, use.social.convention': -2.0770046956079087,\n",
       " 'closed.question, recall': -2.146553300819263,\n",
       " 'closed.question, open.question': 0.6894683798054839,\n",
       " 'closed.question, deflection': -1.8509865045582965,\n",
       " 'closed.question, relax.atmosphere': -0.5238135325026745,\n",
       " 'closed.question, misc': -2.956493928287929,\n",
       " 'closed.question, respond.agree': -0.9892060276939523,\n",
       " 'closed.question, give.opinion': -1.8865333068460404,\n",
       " 'misc, give.statement': -1.8514323278005085,\n",
       " 'misc, respond.deny': -inf,\n",
       " 'misc, use.social.convention': -0.6128150189557926,\n",
       " 'misc, recall': -2.0127872511010927,\n",
       " 'misc, open.question': -2.2704029490139566,\n",
       " 'misc, deflection': -0.9757388921545358,\n",
       " 'misc, relax.atmosphere': -0.9450103862379167,\n",
       " 'misc, closed.question': -2.956493928287929,\n",
       " 'misc, respond.agree': -1.528978661475667,\n",
       " 'misc, give.opinion': -0.12943143985807945,\n",
       " 'respond.agree, give.statement': -0.7666064185194705,\n",
       " 'respond.agree, respond.deny': 0.8257198911647854,\n",
       " 'respond.agree, use.social.convention': -1.6178271710253485,\n",
       " 'respond.agree, recall': -2.6523347980641825,\n",
       " 'respond.agree, open.question': -0.6968217878431284,\n",
       " 'respond.agree, deflection': 0.2413794743684496,\n",
       " 'respond.agree, relax.atmosphere': -1.1188638621044529,\n",
       " 'respond.agree, closed.question': -0.9892060276939523,\n",
       " 'respond.agree, misc': -1.528978661475667,\n",
       " 'respond.agree, give.opinion': -1.0255634459959735,\n",
       " 'give.opinion, give.statement': -1.279163087998234,\n",
       " 'give.opinion, respond.deny': -2.6067217161181846,\n",
       " 'give.opinion, use.social.convention': -1.7957455239797055,\n",
       " 'give.opinion, recall': -1.9059187619861726,\n",
       " 'give.opinion, open.question': -1.2415464242928402,\n",
       " 'give.opinion, deflection': -0.6637245415281023,\n",
       " 'give.opinion, relax.atmosphere': -1.657005956053889,\n",
       " 'give.opinion, closed.question': -1.8865333068460404,\n",
       " 'give.opinion, misc': -0.12943143985807945,\n",
       " 'give.opinion, respond.agree': -1.0255634459959735}"
      ]
     },
     "execution_count": 31,
     "metadata": {},
     "output_type": "execute_result"
    }
   ],
   "source": [
    "s_score = sub_scores([test1, test2])\n",
    "s_score"
   ]
  },
  {
   "cell_type": "code",
   "execution_count": 32,
   "metadata": {},
   "outputs": [
    {
     "name": "stderr",
     "output_type": "stream",
     "text": [
      "/home/kense/.local/lib/python3.6/site-packages/ipykernel_launcher.py:20: RuntimeWarning: divide by zero encountered in log2\n"
     ]
    },
    {
     "name": "stdout",
     "output_type": "stream",
     "text": [
      "False\n"
     ]
    }
   ],
   "source": [
    "#gut check\n",
    "print(sub_scores([test1, test2]) == sub_scores([test2, test1]))"
   ]
  },
  {
   "cell_type": "markdown",
   "metadata": {},
   "source": [
    "# Note that with very broad categories of labels, there is going to be little defined similarity between each label, and switching the labels will always be bad (thus negative score for all substitutions), however this is expected, and we can see something like, what are the least harmful switches, to show similarity. Notice closed.question and open.question have higher similarity, which is something expected"
   ]
  },
  {
   "cell_type": "code",
   "execution_count": 33,
   "metadata": {},
   "outputs": [],
   "source": [
    "#Insertion STEP 4: define Cxy(a) as the count of occurrences of 3-gram xay\n",
    "def occ_count (symbols, cons, grams, gfreq):\n",
    "    assert type(symbols) == list\n",
    "    assert type(grams) == list\n",
    "    assert type(cons) == dict\n",
    "    \n",
    "    o_counts = {}\n",
    "    for a in list(cons.keys()):\n",
    "        for pair in cons[a]:\n",
    "            x = pair.split(\", \")[0]\n",
    "            y = pair.split(\", \")[1]\n",
    "            o_counts[\"{0}, {1}({2})\".format(x,y,a)] = gfreq[\"{0}, {1}, {2}\".format(x,a,y)]\n",
    "    \n",
    "    return o_counts"
   ]
  },
  {
   "cell_type": "code",
   "execution_count": 34,
   "metadata": {},
   "outputs": [
    {
     "name": "stdout",
     "output_type": "stream",
     "text": [
      "{'a, b(a)': 1, 'a, a(a)': 5}\n"
     ]
    }
   ],
   "source": [
    "#test occ_count with values easily verifiable\n",
    "t1 = [\"a\",\"a\",\"a\",\"a\",\"a\"]\n",
    "t2 = [\"a\",\"a\",\"a\",\"a\",\"b\"]\n",
    "tlog = [t1, t2]\n",
    "symbols = define_symbols(tlog)\n",
    "grams, gfreq = three_grams(tlog)\n",
    "cons = define_context(grams)\n",
    "oc = occ_count(symbols, cons, grams, gfreq)\n",
    "print(oc)"
   ]
  },
  {
   "cell_type": "code",
   "execution_count": 35,
   "metadata": {},
   "outputs": [],
   "source": [
    "#Insertion STEP 5: define countRgivenL\n",
    "def countRgL (symbols, ocounts):\n",
    "    assert type(symbols) == list\n",
    "    assert type(ocounts) == dict\n",
    "    \n",
    "    rgl_counts = {}\n",
    "    \n",
    "    for a in symbols:\n",
    "        for x in symbols:\n",
    "            #if a !=x:\n",
    "            total = 0\n",
    "            for k in list(ocounts.keys()):\n",
    "                if k.split(\"(\")[0].split(\", \")[0] == x and k.split(\"(\")[1] == \"{0})\".format(a):\n",
    "                    total += ocounts[k]\n",
    "            rgl_counts[\"{0}/{1}\".format(a,x)] = total\n",
    "    \n",
    "    return rgl_counts"
   ]
  },
  {
   "cell_type": "code",
   "execution_count": 36,
   "metadata": {},
   "outputs": [
    {
     "name": "stdout",
     "output_type": "stream",
     "text": [
      "{'a/a': 7, 'a/b': 0, 'b/a': 1, 'b/b': 0}\n",
      "{'c/c': 0, 'c/a': 0, 'c/b': 0, 'a/c': 0, 'a/a': 8, 'a/b': 1, 'b/c': 0, 'b/a': 1, 'b/b': 0}\n"
     ]
    }
   ],
   "source": [
    "#test with values easily verifiable\n",
    "t1 = [\"a\",\"a\",\"a\",\"a\",\"a\",\"a\"]\n",
    "t2 = [\"a\",\"a\",\"a\",\"a\",\"b\",\"a\"]\n",
    "tlog = [t1, t2]\n",
    "symbols = define_symbols(tlog)\n",
    "grams, gfreq = three_grams(tlog)\n",
    "cons = define_context(grams)\n",
    "oc = occ_count(symbols, cons, grams, gfreq)\n",
    "rgl = countRgL(symbols, oc)\n",
    "print(rgl)\n",
    "\n",
    "#should add c to the results table, but no occurrences since it's at the end, opens 1 more for a/b\n",
    "t1 = [\"a\",\"a\",\"a\",\"a\",\"a\",\"a\",\"c\"]\n",
    "t2 = [\"a\",\"a\",\"a\",\"a\",\"b\",\"a\",\"c\"]\n",
    "tlog = [t1, t2]\n",
    "symbols = define_symbols(tlog)\n",
    "grams, gfreq = three_grams(tlog)\n",
    "cons = define_context(grams)\n",
    "oc = occ_count(symbols, cons, grams, gfreq)\n",
    "rgl = countRgL(symbols, oc)\n",
    "print(rgl)"
   ]
  },
  {
   "cell_type": "code",
   "execution_count": 37,
   "metadata": {},
   "outputs": [],
   "source": [
    "#Insertion STEP 6: define norm(a)\n",
    "def rgl_norm (symbols, rgl_counts):\n",
    "    assert type(symbols) == list\n",
    "    assert type(rgl_counts) == dict\n",
    "    \n",
    "    rgl_norms = {}\n",
    "    \n",
    "    for a in symbols:\n",
    "        total = 0\n",
    "        for x in symbols:\n",
    "            #if a !=x:\n",
    "            total += rgl_counts[\"{0}/{1}\".format(a,x)]\n",
    "        rgl_norms[\"{0}\".format(a)] = total\n",
    "    \n",
    "    return rgl_norms"
   ]
  },
  {
   "cell_type": "code",
   "execution_count": 38,
   "metadata": {},
   "outputs": [
    {
     "name": "stdout",
     "output_type": "stream",
     "text": [
      "{'a': 7, 'b': 1}\n"
     ]
    }
   ],
   "source": [
    "#test with values easily verifiable\n",
    "t1 = [\"a\",\"a\",\"a\",\"a\",\"a\",\"a\"]\n",
    "t2 = [\"a\",\"a\",\"a\",\"a\",\"b\",\"a\"]\n",
    "tlog = [t1, t2]\n",
    "symbols = define_symbols(tlog)\n",
    "grams, gfreq = three_grams(tlog)\n",
    "cons = define_context(grams)\n",
    "oc = occ_count(symbols, cons, grams, gfreq)\n",
    "rgl = countRgL(symbols, oc)\n",
    "norms = rgl_norm(symbols, rgl)\n",
    "print(norms)"
   ]
  },
  {
   "cell_type": "code",
   "execution_count": 39,
   "metadata": {},
   "outputs": [],
   "source": [
    "#Insertion STEP 7: define the probability of all symbols\n",
    "def rgl_prob (trace):\n",
    "    assert type(trace) == list\n",
    "    \n",
    "    p = {}\n",
    "    for item in trace:\n",
    "        for a in item:\n",
    "            try:\n",
    "                p[\"{0}\".format(a)] += 1\n",
    "            except:\n",
    "                p[\"{0}\".format(a)] = 1\n",
    "    \n",
    "    tot_len = 0\n",
    "    for item in trace:\n",
    "        tot_len += len(item)\n",
    "    \n",
    "    for k in list(p.keys()):\n",
    "        p[k] = p[k]/tot_len\n",
    "    \n",
    "    return p"
   ]
  },
  {
   "cell_type": "code",
   "execution_count": 40,
   "metadata": {},
   "outputs": [
    {
     "name": "stdout",
     "output_type": "stream",
     "text": [
      "{'a': 0.9, 'b': 0.1}\n"
     ]
    }
   ],
   "source": [
    "#test with values easily verifiable\n",
    "t1 = [\"a\",\"a\",\"a\",\"a\",\"a\"]\n",
    "t2 = [\"a\",\"a\",\"a\",\"a\",\"b\"]\n",
    "tlog = [t1, t2]\n",
    "symbols = define_symbols(tlog)\n",
    "grams, gfreq = three_grams(tlog)\n",
    "cons = define_context(grams)\n",
    "oc = occ_count(symbols, cons, grams, gfreq)\n",
    "rgl = countRgL(symbols, oc)\n",
    "norms = rgl_norm(symbols, rgl)\n",
    "probs = rgl_prob(tlog)\n",
    "print(probs)"
   ]
  },
  {
   "cell_type": "code",
   "execution_count": 41,
   "metadata": {},
   "outputs": [],
   "source": [
    "#Insertion STEP 8: define rglNorm\n",
    "def normed_counts (symbols, rgl, norms):\n",
    "    assert type(symbols) == list\n",
    "    assert type(rgl) == dict\n",
    "    assert type(norms) == dict\n",
    "    \n",
    "    normed_rgls = {}\n",
    "    \n",
    "    for a in symbols:\n",
    "        for b in symbols:\n",
    "            normed_rgls[\"{0}/{1}\".format(a,b)] = rgl[\"{0}/{1}\".format(a,b)]/norms[\"{0}\".format(a)]\n",
    "    \n",
    "    return normed_rgls"
   ]
  },
  {
   "cell_type": "code",
   "execution_count": 42,
   "metadata": {},
   "outputs": [
    {
     "name": "stdout",
     "output_type": "stream",
     "text": [
      "{'a/a': 1.0, 'a/b': 0.0, 'b/a': 1.0, 'b/b': 0.0}\n"
     ]
    }
   ],
   "source": [
    "#test with values easily verifiable\n",
    "t1 = [\"a\",\"a\",\"a\",\"a\",\"a\",\"a\"]\n",
    "t2 = [\"a\",\"a\",\"a\",\"a\",\"b\",\"a\"]\n",
    "tlog = [t1, t2]\n",
    "symbols = define_symbols(tlog)\n",
    "grams, gfreq = three_grams(tlog)\n",
    "cons = define_context(grams)\n",
    "oc = occ_count(symbols, cons, grams, gfreq)\n",
    "rgl = countRgL(symbols, oc)\n",
    "norms = rgl_norm(symbols, rgl)\n",
    "probs = rgl_prob(tlog)\n",
    "norm_rgls = normed_counts(symbols, rgl, norms)\n",
    "print(norm_rgls)"
   ]
  },
  {
   "cell_type": "code",
   "execution_count": 43,
   "metadata": {},
   "outputs": [],
   "source": [
    "def insert_scores (traces):\n",
    "    assert type(traces) == list\n",
    "    \n",
    "    symbols = define_symbols(traces)\n",
    "    grams, freq = three_grams(traces)\n",
    "    cons = define_context(grams)\n",
    "    oc = occ_count(symbols, cons, grams, freq)\n",
    "    rgl = countRgL(symbols, oc)\n",
    "    norms = rgl_norm(symbols, rgl)\n",
    "    probs = rgl_prob(traces)\n",
    "    norm_rgls = normed_counts(symbols ,rgl, norms)\n",
    "    \n",
    "    scores = {}\n",
    "    for a in symbols:\n",
    "        for b in symbols:\n",
    "            scores[\"{0}/{1}\".format(a,b)] = np.log2(norm_rgls[\"{0}/{1}\".format(a,b)]/probs[\"{0}\".format(a)]*probs[\"{0}\".format(b)])\n",
    "    \n",
    "    return scores"
   ]
  },
  {
   "cell_type": "code",
   "execution_count": 44,
   "metadata": {},
   "outputs": [
    {
     "name": "stdout",
     "output_type": "stream",
     "text": [
      "{'a/a': 0.0}\n",
      "{'a/a': 0.0, 'a/b': -inf, 'b/a': 3.4594316186372973, 'b/b': -inf}\n",
      "{'c/c': -inf, 'c/a': -inf, 'c/b': 1.0, 'a/c': -inf, 'a/a': -0.8073549220576042, 'a/b': -2.5443205162238103, 'b/c': -inf, 'b/a': 1.3219280948873624, 'b/b': -inf}\n"
     ]
    },
    {
     "name": "stderr",
     "output_type": "stream",
     "text": [
      "/home/kense/.local/lib/python3.6/site-packages/ipykernel_launcher.py:16: RuntimeWarning: divide by zero encountered in log2\n",
      "  app.launch_new_instance()\n"
     ]
    }
   ],
   "source": [
    "t1 = [\"a\",\"a\",\"a\",\"a\",\"a\",\"a\"]\n",
    "t2 = [\"a\",\"a\",\"a\",\"a\",\"a\",\"a\"]\n",
    "tlog = [t1, t2]\n",
    "print(insert_scores(tlog))\n",
    "\n",
    "t1 = [\"a\",\"a\",\"a\",\"a\",\"a\",\"a\"]\n",
    "t2 = [\"a\",\"a\",\"a\",\"a\",\"b\",\"a\"]\n",
    "tlog = [t1, t2]\n",
    "print(insert_scores(tlog))\n",
    "\n",
    "t1 = [\"a\",\"a\",\"b\",\"a\",\"a\",\"b\",\"c\",\"c\"]\n",
    "t2 = [\"a\",\"a\",\"b\",\"a\",\"a\",\"b\",\"a\",\"a\"]\n",
    "tlog = [t1, t2]\n",
    "print(insert_scores(tlog))"
   ]
  },
  {
   "cell_type": "markdown",
   "metadata": {},
   "source": [
    "# Here this seems correct since adding b given a will make t1 more similar to t2, where the only difference is that t2 has an extra b!"
   ]
  },
  {
   "cell_type": "code",
   "execution_count": 45,
   "metadata": {
    "scrolled": false
   },
   "outputs": [
    {
     "name": "stderr",
     "output_type": "stream",
     "text": [
      "/home/kense/.local/lib/python3.6/site-packages/ipykernel_launcher.py:16: RuntimeWarning: divide by zero encountered in log2\n",
      "  app.launch_new_instance()\n"
     ]
    },
    {
     "data": {
      "text/plain": [
       "{'give.statement/give.statement': -1.1606828491374637,\n",
       " 'give.statement/respond.deny': -10.130437092921554,\n",
       " 'give.statement/use.social.convention': -3.96989332777355,\n",
       " 'give.statement/recall': -6.486153501265199,\n",
       " 'give.statement/open.question': -7.563396500197659,\n",
       " 'give.statement/deflection': -12.622290189251228,\n",
       " 'give.statement/relax.atmosphere': -4.22622063161136,\n",
       " 'give.statement/closed.question': -7.151970254471194,\n",
       " 'give.statement/misc': -10.452365187808915,\n",
       " 'give.statement/respond.agree': -3.695253020530933,\n",
       " 'give.statement/give.opinion': -3.1130100211633693,\n",
       " 'respond.deny/give.statement': 0.6788138413804108,\n",
       " 'respond.deny/respond.deny': -2.7548875021634687,\n",
       " 'respond.deny/use.social.convention': -inf,\n",
       " 'respond.deny/recall': -inf,\n",
       " 'respond.deny/open.question': -2.187846909439575,\n",
       " 'respond.deny/deflection': -inf,\n",
       " 'respond.deny/relax.atmosphere': -inf,\n",
       " 'respond.deny/closed.question': 1.5455074311742525,\n",
       " 'respond.deny/misc': -inf,\n",
       " 'respond.deny/respond.agree': -1.8804183842473279,\n",
       " 'respond.deny/give.opinion': 0.44150971064003447,\n",
       " 'use.social.convention/give.statement': -2.6225492787199665,\n",
       " 'use.social.convention/respond.deny': -11.278643043600294,\n",
       " 'use.social.convention/use.social.convention': -0.7482367065012263,\n",
       " 'use.social.convention/recall': -5.727468856335421,\n",
       " 'use.social.convention/open.question': -8.7116024508764,\n",
       " 'use.social.convention/deflection': -inf,\n",
       " 'use.social.convention/relax.atmosphere': -3.052498487402739,\n",
       " 'use.social.convention/closed.question': -7.785603032320177,\n",
       " 'use.social.convention/misc': -6.47128812154269,\n",
       " 'use.social.convention/respond.agree': -4.703734207543061,\n",
       " 'use.social.convention/give.opinion': -4.082245830796791,\n",
       " 'recall/give.statement': -2.9316814368196598,\n",
       " 'recall/respond.deny': -10.687310875250901,\n",
       " 'recall/use.social.convention': -5.829329880123329,\n",
       " 'recall/recall': -0.4637113460145333,\n",
       " 'recall/open.question': -inf,\n",
       " 'recall/deflection': -11.857235876693213,\n",
       " 'recall/relax.atmosphere': -5.183632343524438,\n",
       " 'recall/closed.question': -8.194270863970784,\n",
       " 'recall/misc': -inf,\n",
       " 'recall/respond.agree': -3.812841757334761,\n",
       " 'recall/give.opinion': -3.0758761631685547,\n",
       " 'open.question/give.statement': -1.2328749227309286,\n",
       " 'open.question/respond.deny': -inf,\n",
       " 'open.question/use.social.convention': -1.4460251917625278,\n",
       " 'open.question/recall': -2.600828906180177,\n",
       " 'open.question/open.question': -2.321928094887362,\n",
       " 'open.question/deflection': -inf,\n",
       " 'open.question/relax.atmosphere': -1.3852901558847919,\n",
       " 'open.question/closed.question': -2.395928676331139,\n",
       " 'open.question/misc': -inf,\n",
       " 'open.question/respond.agree': -1.314059851554023,\n",
       " 'open.question/give.opinion': -0.6925714748077529,\n",
       " 'deflection/give.statement': 1.4337013435438795,\n",
       " 'deflection/respond.deny': -inf,\n",
       " 'deflection/use.social.convention': -inf,\n",
       " 'deflection/recall': -inf,\n",
       " 'deflection/open.question': -0.84799690655495,\n",
       " 'deflection/deflection': -3.584962500721156,\n",
       " 'deflection/relax.atmosphere': -inf,\n",
       " 'deflection/closed.question': 2.8853574340588777,\n",
       " 'deflection/misc': -inf,\n",
       " 'deflection/respond.agree': -inf,\n",
       " 'deflection/give.opinion': 2.1963972128035034,\n",
       " 'relax.atmosphere/give.statement': -1.7460875769619362,\n",
       " 'relax.atmosphere/respond.deny': -9.118388375841672,\n",
       " 'relax.atmosphere/use.social.convention': -3.757907040184917,\n",
       " 'relax.atmosphere/recall': -5.152176689297956,\n",
       " 'relax.atmosphere/open.question': -6.966385282396622,\n",
       " 'relax.atmosphere/deflection': -10.288313377283984,\n",
       " 'relax.atmosphere/relax.atmosphere': -1.2784264562507759,\n",
       " 'relax.atmosphere/closed.question': -5.1659167459242585,\n",
       " 'relax.atmosphere/misc': -9.118388375841672,\n",
       " 'relax.atmosphere/respond.agree': -3.489031755762063,\n",
       " 'relax.atmosphere/give.opinion': -3.1850255688719633,\n",
       " 'closed.question/give.statement': -0.6827753162720295,\n",
       " 'closed.question/respond.deny': -7.156005024002546,\n",
       " 'closed.question/use.social.convention': -3.2980240288749743,\n",
       " 'closed.question/recall': -3.774755838179986,\n",
       " 'closed.question/open.question': -6.173926931999809,\n",
       " 'closed.question/deflection': -10.910892526166014,\n",
       " 'closed.question/relax.atmosphere': -1.8043295857211321,\n",
       " 'closed.question/closed.question': -2.662965012722429,\n",
       " 'closed.question/misc': -inf,\n",
       " 'closed.question/respond.agree': -2.866498406807562,\n",
       " 'closed.question/give.opinion': -1.8076047177539931,\n",
       " 'misc/give.statement': -2.9061486593407455,\n",
       " 'misc/respond.deny': -inf,\n",
       " 'misc/use.social.convention': -4.481869007757052,\n",
       " 'misc/recall': -4.788675815619753,\n",
       " 'misc/open.question': -inf,\n",
       " 'misc/deflection': -inf,\n",
       " 'misc/relax.atmosphere': -5.573137065324366,\n",
       " 'misc/closed.question': -inf,\n",
       " 'misc/misc': -0.16992500144231246,\n",
       " 'misc/respond.agree': -inf,\n",
       " 'misc/give.opinion': -3.5584902893599657,\n",
       " 'respond.agree/give.statement': -1.7971059000454552,\n",
       " 'respond.agree/respond.deny': -10.50382573799575,\n",
       " 'respond.agree/use.social.convention': -7.230807243589335,\n",
       " 'respond.agree/recall': -5.952651550730877,\n",
       " 'respond.agree/open.question': -3.8075021283268904,\n",
       " 'respond.agree/deflection': -inf,\n",
       " 'respond.agree/relax.atmosphere': -3.7371128004354923,\n",
       " 'respond.agree/closed.question': -1.7628582132720483,\n",
       " 'respond.agree/misc': -inf,\n",
       " 'respond.agree/respond.agree': -3.6293566200796095,\n",
       " 'respond.agree/give.opinion': -2.248534836138679,\n",
       " 'give.opinion/give.statement': -2.637164987175765,\n",
       " 'give.opinion/respond.deny': -9.6558288314408,\n",
       " 'give.opinion/use.social.convention': -4.0042987137806545,\n",
       " 'give.opinion/recall': -4.841620238342134,\n",
       " 'give.opinion/open.question': -8.410716333604269,\n",
       " 'give.opinion/deflection': -11.56271942704932,\n",
       " 'give.opinion/relax.atmosphere': -4.272444533432048,\n",
       " 'give.opinion/closed.question': -8.484716915048045,\n",
       " 'give.opinion/misc': -8.392794425607006,\n",
       " 'give.opinion/respond.agree': -3.893834442783072,\n",
       " 'give.opinion/give.opinion': -1.0087702096277322}"
      ]
     },
     "execution_count": 45,
     "metadata": {},
     "output_type": "execute_result"
    }
   ],
   "source": [
    "#test on our logs, specifically looking for respond.agree, open.question or respond.agree, closed.question to have high scores, since they usually\n",
    "#appear next to each other in that order\n",
    "ins_score = insert_scores([test1,test2])\n",
    "ins_score"
   ]
  },
  {
   "cell_type": "markdown",
   "metadata": {},
   "source": [
    "# scores generally make sense\n",
    "\n",
    "# we can define similarity function"
   ]
  },
  {
   "cell_type": "code",
   "execution_count": 46,
   "metadata": {},
   "outputs": [
    {
     "name": "stderr",
     "output_type": "stream",
     "text": [
      "/home/kense/.local/lib/python3.6/site-packages/ipykernel_launcher.py:16: RuntimeWarning: divide by zero encountered in log2\n",
      "  app.launch_new_instance()\n"
     ]
    },
    {
     "data": {
      "text/plain": [
       "True"
      ]
     },
     "execution_count": 46,
     "metadata": {},
     "output_type": "execute_result"
    }
   ],
   "source": [
    "#gutcheck\n",
    "insert_scores([test1,test2]) == insert_scores([test2, test1])"
   ]
  },
  {
   "cell_type": "code",
   "execution_count": 100,
   "metadata": {},
   "outputs": [],
   "source": [
    "#similarity calculations between two traces is defined by the edit distance, modified by the substitution and indel scores\n",
    "def calc_distance(trace1, trace2):\n",
    "    \n",
    "    assert type(trace1) == type(trace2) == list\n",
    "    \n",
    "    #switch so that trace1 is always > trace2\n",
    "    if len(trace1) < len(trace2):\n",
    "        trace_copy = trace1\n",
    "        trace1 = trace2\n",
    "        trace2 = trace_copy\n",
    "\n",
    "    M = len(trace1)\n",
    "    N = len(trace2)\n",
    "    sim_table = np.zeros((M,N)) #establish table\n",
    "    s_score = sub_scores([trace1, trace2]) #get substitution score\n",
    "    ins_score = insert_scores([trace1, trace2]) #get insertion score\n",
    "    \n",
    "    #fill table, horizontal -> vertical\n",
    "    for i in range(M):\n",
    "        for j in range(N):\n",
    "            \n",
    "            #original fill horizontal\n",
    "            if i == 0:\n",
    "                if j == 0 or j == 1: #first fill\n",
    "                    sim_table[i][j] = 0\n",
    "                else: #rest fill, base insert scores\n",
    "                    sim_table[i][j] = -1/ins_score[\"{0}/{1}\".format(trace2[j], trace2[j-1])] + sim_table[i][j-1]\n",
    "            \n",
    "            #original fill vertical\n",
    "            elif j == 0:\n",
    "                sim_table[i][j] = i #consider deletion as unit 1 cost\n",
    "            \n",
    "            elif trace1[i] == trace2[j]: #no changes\n",
    "                sim_table[i][j] = sim_table[i-1][j-1]\n",
    "            \n",
    "            else: #substitution, insertion or deletion\n",
    "                \n",
    "                #determine the max to take\n",
    "                op = np.argmin([sim_table[i-1][j], sim_table[i][j-1], sim_table[i-1][j-1]]) #in order, removal, insertion, substitution\n",
    "                if op == 0:\n",
    "                    sim_table[i][j] = 1 + sim_table[i-1][j] #removal\n",
    "                elif op == 1:\n",
    "                    sim_table[i][j] = -1/ins_score[\"{0}/{1}\".format(trace2[j],trace2[j-1])] + sim_table[i][j-1] #insertion\n",
    "                elif op == 2:\n",
    "                    sim_table[i][j] = -1/s_score[\"{0}, {1}\".format(trace1[i],trace2[j])] + sim_table[i-1][j-1] #substitution\n",
    "                \n",
    "    return sim_table[i][j] #final score\n",
    "            "
   ]
  },
  {
   "cell_type": "code",
   "execution_count": 101,
   "metadata": {},
   "outputs": [
    {
     "name": "stdout",
     "output_type": "stream",
     "text": [
      "7.044083186301329\n",
      "7.0\n",
      "4.0\n",
      "-inf\n",
      "True\n",
      "True\n"
     ]
    },
    {
     "name": "stderr",
     "output_type": "stream",
     "text": [
      "/home/kense/.local/lib/python3.6/site-packages/ipykernel_launcher.py:16: RuntimeWarning: divide by zero encountered in log2\n",
      "  app.launch_new_instance()\n",
      "/home/kense/.local/lib/python3.6/site-packages/ipykernel_launcher.py:27: RuntimeWarning: divide by zero encountered in double_scalars\n"
     ]
    }
   ],
   "source": [
    "a = [\"a\",\"a\",\"a\",\"a\",\"b\",\"a\",\"c\",\"c\"]\n",
    "b = [\"b\",\"b\",\"b\",\"b\",\"a\",\"b\",\"c\",\"c\",\"c\",\"c\"]\n",
    "c = [\"a\",\"a\",\"b\",\"a\"]\n",
    "d = [\"b\",\"a\",\"b\",\"b\"]\n",
    "print(calc_distance(a,b))\n",
    "\n",
    "print(calc_distance(b,c))\n",
    "\n",
    "print(calc_distance(a,c))\n",
    "\n",
    "print(calc_distance(d,c))\n",
    "\n",
    "print(calc_distance(a,a)==0)\n",
    "print(calc_distance(a,b)==calc_distance(b,a))"
   ]
  },
  {
   "cell_type": "code",
   "execution_count": 102,
   "metadata": {},
   "outputs": [
    {
     "name": "stderr",
     "output_type": "stream",
     "text": [
      "/home/kense/.local/lib/python3.6/site-packages/ipykernel_launcher.py:20: RuntimeWarning: divide by zero encountered in log2\n",
      "/home/kense/.local/lib/python3.6/site-packages/ipykernel_launcher.py:16: RuntimeWarning: divide by zero encountered in log2\n",
      "  app.launch_new_instance()\n"
     ]
    },
    {
     "data": {
      "text/plain": [
       "427.81181431085855"
      ]
     },
     "execution_count": 102,
     "metadata": {},
     "output_type": "execute_result"
    }
   ],
   "source": [
    "calc_distance(test1,test2)"
   ]
  },
  {
   "cell_type": "code",
   "execution_count": 103,
   "metadata": {},
   "outputs": [
    {
     "name": "stderr",
     "output_type": "stream",
     "text": [
      "/home/kense/.local/lib/python3.6/site-packages/ipykernel_launcher.py:16: RuntimeWarning: divide by zero encountered in log2\n",
      "  app.launch_new_instance()\n"
     ]
    },
    {
     "data": {
      "text/plain": [
       "60.98780335263162"
      ]
     },
     "execution_count": 103,
     "metadata": {},
     "output_type": "execute_result"
    }
   ],
   "source": [
    "calc_distance(test1,test3)"
   ]
  },
  {
   "cell_type": "code",
   "execution_count": 104,
   "metadata": {},
   "outputs": [
    {
     "name": "stderr",
     "output_type": "stream",
     "text": [
      "/home/kense/.local/lib/python3.6/site-packages/ipykernel_launcher.py:16: RuntimeWarning: divide by zero encountered in log2\n",
      "  app.launch_new_instance()\n"
     ]
    },
    {
     "data": {
      "text/plain": [
       "-411.088249513836"
      ]
     },
     "execution_count": 104,
     "metadata": {},
     "output_type": "execute_result"
    }
   ],
   "source": [
    "calc_distance(test2, test3)"
   ]
  },
  {
   "cell_type": "code",
   "execution_count": null,
   "metadata": {},
   "outputs": [],
   "source": []
  }
 ],
 "metadata": {
  "kernelspec": {
   "display_name": "Python 3",
   "language": "python",
   "name": "python3"
  },
  "language_info": {
   "codemirror_mode": {
    "name": "ipython",
    "version": 3
   },
   "file_extension": ".py",
   "mimetype": "text/x-python",
   "name": "python",
   "nbconvert_exporter": "python",
   "pygments_lexer": "ipython3",
   "version": "3.6.9"
  }
 },
 "nbformat": 4,
 "nbformat_minor": 2
}
