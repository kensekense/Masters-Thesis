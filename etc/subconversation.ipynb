{
 "cells": [
  {
   "cell_type": "code",
   "execution_count": 1,
   "metadata": {},
   "outputs": [],
   "source": [
    "import numpy as np"
   ]
  },
  {
   "cell_type": "code",
   "execution_count": 2,
   "metadata": {},
   "outputs": [],
   "source": [
    "#add from sample conversations\n",
    "trace1 = []\n",
    "with open(\"./sample_trace1.dat\", \"r\") as fp:\n",
    "    for line in fp:\n",
    "        trace1.append(line)"
   ]
  },
  {
   "cell_type": "code",
   "execution_count": 3,
   "metadata": {},
   "outputs": [],
   "source": [
    "convo1 = []\n",
    "for item in trace1:\n",
    "    line = item.split(\"+\")\n",
    "    convo1.append((line[1],line[2],line[3][0]))"
   ]
  },
  {
   "cell_type": "code",
   "execution_count": 4,
   "metadata": {},
   "outputs": [
    {
     "data": {
      "text/plain": [
       "[('欸，你也是從台灣來的', 'closed.question', '1'),\n",
       " ('也是？你的flag是中國的', 'deflection', '2'),\n",
       " ('我不知道他們有台灣的國旗', 'deflection', '1'),\n",
       " ('當然有，如果你是台灣就因該貼台灣的', 'give.opinion', '2'),\n",
       " ('不然現在人家會以爲你有corona', 'relax.atmosphere', '2'),\n",
       " ('哈哈哈', 'relax.atmosphere', '2'),\n",
       " ('trueeeee', 'use.social.convention', '1'),\n",
       " ('你是台灣的哪裏人？', 'closed.question', '1'),\n",
       " ('臺北', 'respond.agree', '2'),\n",
       " ('欸，我也是', 'respond.agree', '1'),\n",
       " ('好巧哦，小世界', 'use.social.convention', '2'),\n",
       " ('好久沒有回去台灣了', 'display.reflection', '1'),\n",
       " ('現在想回去也沒辦法', 'display.reflection', '1'),\n",
       " ('欸，可是他們抵抗corona還很好哦', 'respond.deny', '2'),\n",
       " ('對，可是去了話可能回不來', 'respond.agree', '1'),\n",
       " ('哈哈哈', 'relax.atmosphere', '1'),\n",
       " ('也有一點不想回來，就回台灣好了', 'display.reflection', '1'),\n",
       " ('書也不想念了，美國政府也沒好事', 'display.reflection', '1'),\n",
       " ('哈哈', 'relax.atmosphere', '1'),\n",
       " ('美國真的是，不知道他們在幹什麽。。。', 'respond.agree', '2'),\n",
       " ('好，這裏念完書回台灣', 'give.opinion', '1'),\n",
       " ('哈哈哈', 'relax.atmosphere', '1'),\n",
       " ('哈哈哈', 'relax.atmosphere', '2'),\n",
       " ('你是台灣來念書的嗎？', 'closed.question', '2'),\n",
       " ('來念書，可是其實從美國來的', 'respond.agree', '1'),\n",
       " ('我台灣出生的，可是在美國長大的', 'respond.agree', '1'),\n",
       " ('你是在這裏工作嘛？', 'closed.question', '1'),\n",
       " ('對，我是個律師', 'respond.agree', '2'),\n",
       " ('哦~ 什麽律師？', 'open.question', '1'),\n",
       " ('international law', 'respond.agree', '2'),\n",
       " ('哇，那日内瓦一定很好', 'give.opinion', '1'),\n",
       " ('還好啦', 'respond.agree', '2'),\n",
       " ('要怎麽説，”international law is the diminishing point of law?”',\n",
       "  'open.question',\n",
       "  '2'),\n",
       " ('國際法是法律的遞減點？', 'give.opinion', '2'),\n",
       " ('不確定，可是聽起來是對的', 'respond.agree', '1'),\n",
       " ('哈哈哈', 'relax.atmosphere', '1'),\n",
       " ('哈哈哈', 'relax.atmosphere', '2'),\n",
       " ('意思明白就好了，國際法真的有一點是個diminishing point', 'respond.agree', '1'),\n",
       " ('不同國家的法律永遠，很少，會同意。', 'give.opinion', '1'),\n",
       " ('對！就是這個意思', 'respond.agree', '2'),\n",
       " ('你現在念碩士吧？', 'closed.question', '2'),\n",
       " ('對，現在在寫thesis', 'respond.agree', '1'),\n",
       " ('你thesis題目是什麽？ ', 'open.question', '2'),\n",
       " ('我喜歡語言交換，所以在看用電腦模範語言交換有關的', 'respond.agree', '1'),\n",
       " ('哇，聽起來很複雜', 'give.opinion', '2'),\n",
       " ('哈哈，有一點', 'respond.agree', '1'),\n",
       " ('但是我覺得是應爲電腦係裏現在做跟語言有關係的都是在做機器翻譯，很少研究用機器幫學習語言的方法', 'give.opinion', '1'),\n",
       " ('欸，那你這種研究是哪裏不一樣？', 'open.question', '2'),\n",
       " ('有點難解釋，因爲我也還沒有完全想通細節，可是現在電腦係裏很火的是機器學習,然後機器學習係裏跟語言有關的都大大是跟自動翻譯有關的，像把語言變成數字去解決這個問題，我比較喜歡學語言的理論，所以想研究一些比較把語言留著的分析',\n",
       "  'respond.agree',\n",
       "  '1'),\n",
       " ('啊，那這種研究的數學會比較複雜嗎？跟機器學習比', 'open.question', '2'),\n",
       " ('mmm, 對我來説複雜一點，可是它們兩個用的數學不太一樣，機器學習用optimization跟derivatives，這種語言交換模範的數學比較像theoretical mathmatics，很多跟graph theory有關的',\n",
       "  'respond.agree',\n",
       "  '1'),\n",
       " ('但是其實我覺得我的Theoretical math(純粹chun2cui4數學)比我的applied math(應用ying4yong4數學)差一點,',\n",
       "  'give.opinion',\n",
       "  '1')]"
      ]
     },
     "execution_count": 4,
     "metadata": {},
     "output_type": "execute_result"
    }
   ],
   "source": [
    "convo1"
   ]
  },
  {
   "cell_type": "code",
   "execution_count": 5,
   "metadata": {},
   "outputs": [],
   "source": [
    "#evaluate traces for the following\n",
    "\n",
    "#CLARIFICATION: respond.agree -> long utterance with give.opinion from the same speaker\n",
    "clarification = []\n",
    "for i in range(len(convo1)-1):\n",
    "    if (convo1[i][2] == convo1[i+1][2]) and (convo1[i][1] == \"respond.agree\" and convo1[i+1][1] == \"give.opinion\"):\n",
    "        clarification.append((convo1[i], convo1[i+1]))\n",
    "\n",
    "#ACTIVE.LISTENING: respond.agree -> long utterance with give.opinon from different speaker\n",
    "activelisten = []\n",
    "for i in range(len(convo1)-1):\n",
    "    if (convo1[i][2] != convo1[i+1][2]) and (convo1[i][1] == \"respond.agree\" and convo1[i+1][1] == \"give.opinion\"):\n",
    "        activelisten.append((convo1[i], convo1[i+1]))\n",
    "        \n",
    "#AVOIDANCE: open.question -> respond.agree with len < 4\n",
    "avoidance = []\n",
    "for i in range(len(convo1)-1):\n",
    "    if (convo1[i][2] != convo1[i+1][2]) and (convo1[i][1] == \"open.question\" and ((convo1[i+1][1] == \"respond.agree\" or convo1[i+1][1] == \"give.opinion\") and len(convo1[i+1][0]) < 4)):\n",
    "        avoidance.append((convo1[i], convo1[i+1]))"
   ]
  },
  {
   "cell_type": "code",
   "execution_count": 6,
   "metadata": {},
   "outputs": [
    {
     "name": "stdout",
     "output_type": "stream",
     "text": [
      "(('意思明白就好了，國際法真的有一點是個diminishing point', 'respond.agree', '1'), ('不同國家的法律永遠，很少，會同意。', 'give.opinion', '1'))\n",
      "(('哈哈，有一點', 'respond.agree', '1'), ('但是我覺得是應爲電腦係裏現在做跟語言有關係的都是在做機器翻譯，很少研究用機器幫學習語言的方法', 'give.opinion', '1'))\n",
      "(('mmm, 對我來説複雜一點，可是它們兩個用的數學不太一樣，機器學習用optimization跟derivatives，這種語言交換模範的數學比較像theoretical mathmatics，很多跟graph theory有關的', 'respond.agree', '1'), ('但是其實我覺得我的Theoretical math(純粹chun2cui4數學)比我的applied math(應用ying4yong4數學)差一點,', 'give.opinion', '1'))\n"
     ]
    }
   ],
   "source": [
    "for item in clarification:\n",
    "    print(item)"
   ]
  },
  {
   "cell_type": "code",
   "execution_count": 7,
   "metadata": {},
   "outputs": [
    {
     "name": "stdout",
     "output_type": "stream",
     "text": [
      "(('美國真的是，不知道他們在幹什麽。。。', 'respond.agree', '2'), ('好，這裏念完書回台灣', 'give.opinion', '1'))\n",
      "(('international law', 'respond.agree', '2'), ('哇，那日内瓦一定很好', 'give.opinion', '1'))\n",
      "(('我喜歡語言交換，所以在看用電腦模範語言交換有關的', 'respond.agree', '1'), ('哇，聽起來很複雜', 'give.opinion', '2'))\n"
     ]
    }
   ],
   "source": [
    "for item in activelisten:\n",
    "    print(item)"
   ]
  },
  {
   "cell_type": "code",
   "execution_count": 8,
   "metadata": {},
   "outputs": [],
   "source": [
    "for item in avoidance:\n",
    "    print(item)"
   ]
  },
  {
   "cell_type": "code",
   "execution_count": 14,
   "metadata": {},
   "outputs": [],
   "source": [
    "#try for trace2\n",
    "trace2 = []\n",
    "with open(\"./sample_trace2.dat\", \"r\") as fp:\n",
    "    for line in fp:\n",
    "        trace2.append(line)\n",
    "\n",
    "convo2 = []\n",
    "for item in trace2:\n",
    "    line = item.split(\"+\")\n",
    "    convo2.append((line[1],line[2],line[3][0]))"
   ]
  },
  {
   "cell_type": "code",
   "execution_count": 15,
   "metadata": {},
   "outputs": [
    {
     "data": {
      "text/plain": [
       "[('欸，hello,', 'use.social.convention', '1'),\n",
       " ('hey,', 'use.social.convention', '2'),\n",
       " ('用中文沒問題吧？,', 'closed.question', '2'),\n",
       " ('沒問題，', 'respond.agree', '1'),\n",
       " ('你跟你的前一個partner都是用中文嗎？,', 'closed.question', '2'),\n",
       " ('差不多，有時候會換英文,', 'respond.agree', '1'),\n",
       " ('那我們也盡量用中文,', 'give.opinion', '2'),\n",
       " ('yea,挺好的,', 'respond.agree', '1'),\n",
       " ('那你現在都在做些什麽？,', 'open.question', '2'),\n",
       " ('想在在日内瓦念masters,寫thesis,', 'respond.agree', '1'),\n",
       " ('你在加州念書吧？,', 'closed.question', '1'),\n",
       " ('第幾年了？,', 'closed.question', '1'),\n",
       " ('對，我在USC第四年了,', 'respond.agree', '2'),\n",
       " ('啊，那快畢業了,現在一定很亂，', 'give.opinion', '1'),\n",
       " ('yea,很累，', 'respond.agree', '2'),\n",
       " ('其實畢業以後想去紐約找工作,', 'give.opinion', '2'),\n",
       " ('哦，紐約不錯，你是做finance,right?,', 'closed.question', '1'),\n",
       " ('yea,', 'respond.agree', '2'),\n",
       " ('紐約的finance很好。但是現在哪裏找工作都很不容易,', 'give.opinion', '1'),\n",
       " ('你可以再念一年書嗎？還是沒辦法？,', 'closed.question', '1'),\n",
       " ('可以，我也是想說如果找工作不容易可以再念個CS minor,', 'respond.agree', '2'),\n",
       " ('哦，finance念CS minor很好，一定會用到。', 'respond.agree', '1'),\n",
       " ('嗯，所以還有很多選擇,', 'give.opinion', '2'),\n",
       " ('啊，挺好的,', 'respond.agree', '1')]"
      ]
     },
     "execution_count": 15,
     "metadata": {},
     "output_type": "execute_result"
    }
   ],
   "source": [
    "convo2"
   ]
  },
  {
   "cell_type": "code",
   "execution_count": 17,
   "metadata": {},
   "outputs": [
    {
     "name": "stdout",
     "output_type": "stream",
     "text": [
      "(('yea,很累，', 'respond.agree', '2'), ('其實畢業以後想去紐約找工作,', 'give.opinion', '2'))\n",
      "--\n",
      "(('差不多，有時候會換英文,', 'respond.agree', '1'), ('那我們也盡量用中文,', 'give.opinion', '2'))\n",
      "(('對，我在USC第四年了,', 'respond.agree', '2'), ('啊，那快畢業了,現在一定很亂，', 'give.opinion', '1'))\n",
      "(('yea,', 'respond.agree', '2'), ('紐約的finance很好。但是現在哪裏找工作都很不容易,', 'give.opinion', '1'))\n",
      "(('哦，finance念CS minor很好，一定會用到。', 'respond.agree', '1'), ('嗯，所以還有很多選擇,', 'give.opinion', '2'))\n"
     ]
    }
   ],
   "source": [
    "#CLARIFICATION: respond.agree -> long utterance with give.opinion from the same speaker\n",
    "clarification2 = []\n",
    "for i in range(len(convo2)-1):\n",
    "    if (convo2[i][2] == convo2[i+1][2]) and (convo2[i][1] == \"respond.agree\" and convo2[i+1][1] == \"give.opinion\"):\n",
    "        clarification2.append((convo2[i], convo2[i+1]))\n",
    "\n",
    "#ACTIVE.LISTENING: respond.agree -> long utterance with give.opinon from different speaker\n",
    "activelisten2 = []\n",
    "for i in range(len(convo2)-1):\n",
    "    if (convo2[i][2] != convo2[i+1][2]) and (convo2[i][1] == \"respond.agree\" and convo2[i+1][1] == \"give.opinion\"):\n",
    "        activelisten2.append((convo2[i], convo2[i+1]))\n",
    "\n",
    "for item in clarification2:\n",
    "    print(item)\n",
    "\n",
    "print(\"--\")\n",
    "\n",
    "for item in activelisten2:\n",
    "    print(item)"
   ]
  }
 ],
 "metadata": {
  "kernelspec": {
   "display_name": "Python 3",
   "language": "python",
   "name": "python3"
  },
  "language_info": {
   "codemirror_mode": {
    "name": "ipython",
    "version": 3
   },
   "file_extension": ".py",
   "mimetype": "text/x-python",
   "name": "python",
   "nbconvert_exporter": "python",
   "pygments_lexer": "ipython3",
   "version": "3.6.9"
  }
 },
 "nbformat": 4,
 "nbformat_minor": 2
}
